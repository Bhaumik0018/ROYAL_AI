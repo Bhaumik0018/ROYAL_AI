{
  "nbformat": 4,
  "nbformat_minor": 0,
  "metadata": {
    "colab": {
      "name": "Air.ipynb",
      "provenance": []
    },
    "kernelspec": {
      "name": "python3",
      "display_name": "Python 3"
    },
    "accelerator": "GPU"
  },
  "cells": [
    {
      "cell_type": "code",
      "metadata": {
        "id": "y-HcHQoSCivi",
        "colab_type": "code",
        "colab": {}
      },
      "source": [
        "import numpy as np\n",
        "import pandas as pd\n",
        "from sklearn import datasets\n",
        "from sklearn.model_selection import train_test_split\n",
        "import os\n",
        "import matplotlib.pyplot as plt"
      ],
      "execution_count": 44,
      "outputs": []
    },
    {
      "cell_type": "code",
      "metadata": {
        "id": "73yWGetoDRY4",
        "colab_type": "code",
        "colab": {}
      },
      "source": [
        "air_dataset=pd.read_excel('/content/AirQualityUCI.xlsx')"
      ],
      "execution_count": 80,
      "outputs": []
    },
    {
      "cell_type": "code",
      "metadata": {
        "id": "NtNLNH_ID6sP",
        "colab_type": "code",
        "colab": {
          "base_uri": "https://localhost:8080/",
          "height": 590
        },
        "outputId": "6d05e721-3e5b-433c-9ed6-6fb5bbc63fc5"
      },
      "source": [
        "air_dataset"
      ],
      "execution_count": 81,
      "outputs": [
        {
          "output_type": "execute_result",
          "data": {
            "text/html": [
              "<div>\n",
              "<style scoped>\n",
              "    .dataframe tbody tr th:only-of-type {\n",
              "        vertical-align: middle;\n",
              "    }\n",
              "\n",
              "    .dataframe tbody tr th {\n",
              "        vertical-align: top;\n",
              "    }\n",
              "\n",
              "    .dataframe thead th {\n",
              "        text-align: right;\n",
              "    }\n",
              "</style>\n",
              "<table border=\"1\" class=\"dataframe\">\n",
              "  <thead>\n",
              "    <tr style=\"text-align: right;\">\n",
              "      <th></th>\n",
              "      <th>Date</th>\n",
              "      <th>Time</th>\n",
              "      <th>CO(GT)</th>\n",
              "      <th>PT08.S1(CO)</th>\n",
              "      <th>NMHC(GT)</th>\n",
              "      <th>C6H6(GT)</th>\n",
              "      <th>PT08.S2(NMHC)</th>\n",
              "      <th>NOx(GT)</th>\n",
              "      <th>PT08.S3(NOx)</th>\n",
              "      <th>NO2(GT)</th>\n",
              "      <th>PT08.S4(NO2)</th>\n",
              "      <th>PT08.S5(O3)</th>\n",
              "      <th>T</th>\n",
              "      <th>RH</th>\n",
              "      <th>AH</th>\n",
              "    </tr>\n",
              "  </thead>\n",
              "  <tbody>\n",
              "    <tr>\n",
              "      <th>0</th>\n",
              "      <td>2004-03-10</td>\n",
              "      <td>18:00:00</td>\n",
              "      <td>2.6</td>\n",
              "      <td>1360.00</td>\n",
              "      <td>150</td>\n",
              "      <td>11.881723</td>\n",
              "      <td>1045.50</td>\n",
              "      <td>166.0</td>\n",
              "      <td>1056.25</td>\n",
              "      <td>113.0</td>\n",
              "      <td>1692.00</td>\n",
              "      <td>1267.50</td>\n",
              "      <td>13.600</td>\n",
              "      <td>48.875001</td>\n",
              "      <td>0.757754</td>\n",
              "    </tr>\n",
              "    <tr>\n",
              "      <th>1</th>\n",
              "      <td>2004-03-10</td>\n",
              "      <td>19:00:00</td>\n",
              "      <td>2.0</td>\n",
              "      <td>1292.25</td>\n",
              "      <td>112</td>\n",
              "      <td>9.397165</td>\n",
              "      <td>954.75</td>\n",
              "      <td>103.0</td>\n",
              "      <td>1173.75</td>\n",
              "      <td>92.0</td>\n",
              "      <td>1558.75</td>\n",
              "      <td>972.25</td>\n",
              "      <td>13.300</td>\n",
              "      <td>47.700000</td>\n",
              "      <td>0.725487</td>\n",
              "    </tr>\n",
              "    <tr>\n",
              "      <th>2</th>\n",
              "      <td>2004-03-10</td>\n",
              "      <td>20:00:00</td>\n",
              "      <td>2.2</td>\n",
              "      <td>1402.00</td>\n",
              "      <td>88</td>\n",
              "      <td>8.997817</td>\n",
              "      <td>939.25</td>\n",
              "      <td>131.0</td>\n",
              "      <td>1140.00</td>\n",
              "      <td>114.0</td>\n",
              "      <td>1554.50</td>\n",
              "      <td>1074.00</td>\n",
              "      <td>11.900</td>\n",
              "      <td>53.975000</td>\n",
              "      <td>0.750239</td>\n",
              "    </tr>\n",
              "    <tr>\n",
              "      <th>3</th>\n",
              "      <td>2004-03-10</td>\n",
              "      <td>21:00:00</td>\n",
              "      <td>2.2</td>\n",
              "      <td>1375.50</td>\n",
              "      <td>80</td>\n",
              "      <td>9.228796</td>\n",
              "      <td>948.25</td>\n",
              "      <td>172.0</td>\n",
              "      <td>1092.00</td>\n",
              "      <td>122.0</td>\n",
              "      <td>1583.75</td>\n",
              "      <td>1203.25</td>\n",
              "      <td>11.000</td>\n",
              "      <td>60.000000</td>\n",
              "      <td>0.786713</td>\n",
              "    </tr>\n",
              "    <tr>\n",
              "      <th>4</th>\n",
              "      <td>2004-03-10</td>\n",
              "      <td>22:00:00</td>\n",
              "      <td>1.6</td>\n",
              "      <td>1272.25</td>\n",
              "      <td>51</td>\n",
              "      <td>6.518224</td>\n",
              "      <td>835.50</td>\n",
              "      <td>131.0</td>\n",
              "      <td>1205.00</td>\n",
              "      <td>116.0</td>\n",
              "      <td>1490.00</td>\n",
              "      <td>1110.00</td>\n",
              "      <td>11.150</td>\n",
              "      <td>59.575001</td>\n",
              "      <td>0.788794</td>\n",
              "    </tr>\n",
              "    <tr>\n",
              "      <th>...</th>\n",
              "      <td>...</td>\n",
              "      <td>...</td>\n",
              "      <td>...</td>\n",
              "      <td>...</td>\n",
              "      <td>...</td>\n",
              "      <td>...</td>\n",
              "      <td>...</td>\n",
              "      <td>...</td>\n",
              "      <td>...</td>\n",
              "      <td>...</td>\n",
              "      <td>...</td>\n",
              "      <td>...</td>\n",
              "      <td>...</td>\n",
              "      <td>...</td>\n",
              "      <td>...</td>\n",
              "    </tr>\n",
              "    <tr>\n",
              "      <th>9352</th>\n",
              "      <td>2005-04-04</td>\n",
              "      <td>10:00:00</td>\n",
              "      <td>3.1</td>\n",
              "      <td>1314.25</td>\n",
              "      <td>-200</td>\n",
              "      <td>13.529605</td>\n",
              "      <td>1101.25</td>\n",
              "      <td>471.7</td>\n",
              "      <td>538.50</td>\n",
              "      <td>189.8</td>\n",
              "      <td>1374.25</td>\n",
              "      <td>1728.50</td>\n",
              "      <td>21.850</td>\n",
              "      <td>29.250000</td>\n",
              "      <td>0.756824</td>\n",
              "    </tr>\n",
              "    <tr>\n",
              "      <th>9353</th>\n",
              "      <td>2005-04-04</td>\n",
              "      <td>11:00:00</td>\n",
              "      <td>2.4</td>\n",
              "      <td>1162.50</td>\n",
              "      <td>-200</td>\n",
              "      <td>11.355157</td>\n",
              "      <td>1027.00</td>\n",
              "      <td>353.3</td>\n",
              "      <td>603.75</td>\n",
              "      <td>179.2</td>\n",
              "      <td>1263.50</td>\n",
              "      <td>1269.00</td>\n",
              "      <td>24.325</td>\n",
              "      <td>23.725000</td>\n",
              "      <td>0.711864</td>\n",
              "    </tr>\n",
              "    <tr>\n",
              "      <th>9354</th>\n",
              "      <td>2005-04-04</td>\n",
              "      <td>12:00:00</td>\n",
              "      <td>2.4</td>\n",
              "      <td>1142.00</td>\n",
              "      <td>-200</td>\n",
              "      <td>12.374538</td>\n",
              "      <td>1062.50</td>\n",
              "      <td>293.0</td>\n",
              "      <td>603.25</td>\n",
              "      <td>174.7</td>\n",
              "      <td>1240.75</td>\n",
              "      <td>1092.00</td>\n",
              "      <td>26.900</td>\n",
              "      <td>18.350000</td>\n",
              "      <td>0.640649</td>\n",
              "    </tr>\n",
              "    <tr>\n",
              "      <th>9355</th>\n",
              "      <td>2005-04-04</td>\n",
              "      <td>13:00:00</td>\n",
              "      <td>2.1</td>\n",
              "      <td>1002.50</td>\n",
              "      <td>-200</td>\n",
              "      <td>9.547187</td>\n",
              "      <td>960.50</td>\n",
              "      <td>234.5</td>\n",
              "      <td>701.50</td>\n",
              "      <td>155.7</td>\n",
              "      <td>1041.00</td>\n",
              "      <td>769.75</td>\n",
              "      <td>28.325</td>\n",
              "      <td>13.550000</td>\n",
              "      <td>0.513866</td>\n",
              "    </tr>\n",
              "    <tr>\n",
              "      <th>9356</th>\n",
              "      <td>2005-04-04</td>\n",
              "      <td>14:00:00</td>\n",
              "      <td>2.2</td>\n",
              "      <td>1070.75</td>\n",
              "      <td>-200</td>\n",
              "      <td>11.932060</td>\n",
              "      <td>1047.25</td>\n",
              "      <td>265.2</td>\n",
              "      <td>654.00</td>\n",
              "      <td>167.7</td>\n",
              "      <td>1128.50</td>\n",
              "      <td>816.00</td>\n",
              "      <td>28.500</td>\n",
              "      <td>13.125000</td>\n",
              "      <td>0.502804</td>\n",
              "    </tr>\n",
              "  </tbody>\n",
              "</table>\n",
              "<p>9357 rows × 15 columns</p>\n",
              "</div>"
            ],
            "text/plain": [
              "           Date      Time  CO(GT)  ...       T         RH        AH\n",
              "0    2004-03-10  18:00:00     2.6  ...  13.600  48.875001  0.757754\n",
              "1    2004-03-10  19:00:00     2.0  ...  13.300  47.700000  0.725487\n",
              "2    2004-03-10  20:00:00     2.2  ...  11.900  53.975000  0.750239\n",
              "3    2004-03-10  21:00:00     2.2  ...  11.000  60.000000  0.786713\n",
              "4    2004-03-10  22:00:00     1.6  ...  11.150  59.575001  0.788794\n",
              "...         ...       ...     ...  ...     ...        ...       ...\n",
              "9352 2005-04-04  10:00:00     3.1  ...  21.850  29.250000  0.756824\n",
              "9353 2005-04-04  11:00:00     2.4  ...  24.325  23.725000  0.711864\n",
              "9354 2005-04-04  12:00:00     2.4  ...  26.900  18.350000  0.640649\n",
              "9355 2005-04-04  13:00:00     2.1  ...  28.325  13.550000  0.513866\n",
              "9356 2005-04-04  14:00:00     2.2  ...  28.500  13.125000  0.502804\n",
              "\n",
              "[9357 rows x 15 columns]"
            ]
          },
          "metadata": {
            "tags": []
          },
          "execution_count": 81
        }
      ]
    },
    {
      "cell_type": "code",
      "metadata": {
        "id": "mGUedhx6D8Vn",
        "colab_type": "code",
        "colab": {
          "base_uri": "https://localhost:8080/",
          "height": 298
        },
        "outputId": "b684e117-593b-40ef-81dc-e65130a15333"
      },
      "source": [
        "air_dataset.isna().sum()"
      ],
      "execution_count": 82,
      "outputs": [
        {
          "output_type": "execute_result",
          "data": {
            "text/plain": [
              "Date             0\n",
              "Time             0\n",
              "CO(GT)           0\n",
              "PT08.S1(CO)      0\n",
              "NMHC(GT)         0\n",
              "C6H6(GT)         0\n",
              "PT08.S2(NMHC)    0\n",
              "NOx(GT)          0\n",
              "PT08.S3(NOx)     0\n",
              "NO2(GT)          0\n",
              "PT08.S4(NO2)     0\n",
              "PT08.S5(O3)      0\n",
              "T                0\n",
              "RH               0\n",
              "AH               0\n",
              "dtype: int64"
            ]
          },
          "metadata": {
            "tags": []
          },
          "execution_count": 82
        }
      ]
    },
    {
      "cell_type": "code",
      "metadata": {
        "id": "cOX29yKTEjZ1",
        "colab_type": "code",
        "colab": {}
      },
      "source": [
        "air_data=air_dataset.replace(to_replace=-200,value=np.NaN)"
      ],
      "execution_count": 83,
      "outputs": []
    },
    {
      "cell_type": "code",
      "metadata": {
        "id": "1jUijSMbKn-h",
        "colab_type": "code",
        "colab": {
          "base_uri": "https://localhost:8080/",
          "height": 298
        },
        "outputId": "0447ae40-c64c-4b2d-8946-e70763fe5263"
      },
      "source": [
        "air_data.isna().sum()"
      ],
      "execution_count": 84,
      "outputs": [
        {
          "output_type": "execute_result",
          "data": {
            "text/plain": [
              "Date                0\n",
              "Time                0\n",
              "CO(GT)           1683\n",
              "PT08.S1(CO)       366\n",
              "NMHC(GT)         8443\n",
              "C6H6(GT)          366\n",
              "PT08.S2(NMHC)     366\n",
              "NOx(GT)          1639\n",
              "PT08.S3(NOx)      366\n",
              "NO2(GT)          1642\n",
              "PT08.S4(NO2)      366\n",
              "PT08.S5(O3)       366\n",
              "T                 366\n",
              "RH                366\n",
              "AH                366\n",
              "dtype: int64"
            ]
          },
          "metadata": {
            "tags": []
          },
          "execution_count": 84
        }
      ]
    },
    {
      "cell_type": "code",
      "metadata": {
        "id": "u_T1fuxnKzfL",
        "colab_type": "code",
        "colab": {}
      },
      "source": [
        "air_data.dropna(axis=0,inplace=True)"
      ],
      "execution_count": 85,
      "outputs": []
    },
    {
      "cell_type": "code",
      "metadata": {
        "id": "kzYFmsGDMRT_",
        "colab_type": "code",
        "colab": {
          "base_uri": "https://localhost:8080/",
          "height": 590
        },
        "outputId": "7727eb07-0111-4d0c-ec4b-5fdc3c1f84d2"
      },
      "source": [
        "air_data"
      ],
      "execution_count": 86,
      "outputs": [
        {
          "output_type": "execute_result",
          "data": {
            "text/html": [
              "<div>\n",
              "<style scoped>\n",
              "    .dataframe tbody tr th:only-of-type {\n",
              "        vertical-align: middle;\n",
              "    }\n",
              "\n",
              "    .dataframe tbody tr th {\n",
              "        vertical-align: top;\n",
              "    }\n",
              "\n",
              "    .dataframe thead th {\n",
              "        text-align: right;\n",
              "    }\n",
              "</style>\n",
              "<table border=\"1\" class=\"dataframe\">\n",
              "  <thead>\n",
              "    <tr style=\"text-align: right;\">\n",
              "      <th></th>\n",
              "      <th>Date</th>\n",
              "      <th>Time</th>\n",
              "      <th>CO(GT)</th>\n",
              "      <th>PT08.S1(CO)</th>\n",
              "      <th>NMHC(GT)</th>\n",
              "      <th>C6H6(GT)</th>\n",
              "      <th>PT08.S2(NMHC)</th>\n",
              "      <th>NOx(GT)</th>\n",
              "      <th>PT08.S3(NOx)</th>\n",
              "      <th>NO2(GT)</th>\n",
              "      <th>PT08.S4(NO2)</th>\n",
              "      <th>PT08.S5(O3)</th>\n",
              "      <th>T</th>\n",
              "      <th>RH</th>\n",
              "      <th>AH</th>\n",
              "    </tr>\n",
              "  </thead>\n",
              "  <tbody>\n",
              "    <tr>\n",
              "      <th>0</th>\n",
              "      <td>2004-03-10</td>\n",
              "      <td>18:00:00</td>\n",
              "      <td>2.6</td>\n",
              "      <td>1360.00</td>\n",
              "      <td>150.0</td>\n",
              "      <td>11.881723</td>\n",
              "      <td>1045.50</td>\n",
              "      <td>166.0</td>\n",
              "      <td>1056.25</td>\n",
              "      <td>113.0</td>\n",
              "      <td>1692.00</td>\n",
              "      <td>1267.50</td>\n",
              "      <td>13.600</td>\n",
              "      <td>48.875001</td>\n",
              "      <td>0.757754</td>\n",
              "    </tr>\n",
              "    <tr>\n",
              "      <th>1</th>\n",
              "      <td>2004-03-10</td>\n",
              "      <td>19:00:00</td>\n",
              "      <td>2.0</td>\n",
              "      <td>1292.25</td>\n",
              "      <td>112.0</td>\n",
              "      <td>9.397165</td>\n",
              "      <td>954.75</td>\n",
              "      <td>103.0</td>\n",
              "      <td>1173.75</td>\n",
              "      <td>92.0</td>\n",
              "      <td>1558.75</td>\n",
              "      <td>972.25</td>\n",
              "      <td>13.300</td>\n",
              "      <td>47.700000</td>\n",
              "      <td>0.725487</td>\n",
              "    </tr>\n",
              "    <tr>\n",
              "      <th>2</th>\n",
              "      <td>2004-03-10</td>\n",
              "      <td>20:00:00</td>\n",
              "      <td>2.2</td>\n",
              "      <td>1402.00</td>\n",
              "      <td>88.0</td>\n",
              "      <td>8.997817</td>\n",
              "      <td>939.25</td>\n",
              "      <td>131.0</td>\n",
              "      <td>1140.00</td>\n",
              "      <td>114.0</td>\n",
              "      <td>1554.50</td>\n",
              "      <td>1074.00</td>\n",
              "      <td>11.900</td>\n",
              "      <td>53.975000</td>\n",
              "      <td>0.750239</td>\n",
              "    </tr>\n",
              "    <tr>\n",
              "      <th>3</th>\n",
              "      <td>2004-03-10</td>\n",
              "      <td>21:00:00</td>\n",
              "      <td>2.2</td>\n",
              "      <td>1375.50</td>\n",
              "      <td>80.0</td>\n",
              "      <td>9.228796</td>\n",
              "      <td>948.25</td>\n",
              "      <td>172.0</td>\n",
              "      <td>1092.00</td>\n",
              "      <td>122.0</td>\n",
              "      <td>1583.75</td>\n",
              "      <td>1203.25</td>\n",
              "      <td>11.000</td>\n",
              "      <td>60.000000</td>\n",
              "      <td>0.786713</td>\n",
              "    </tr>\n",
              "    <tr>\n",
              "      <th>4</th>\n",
              "      <td>2004-03-10</td>\n",
              "      <td>22:00:00</td>\n",
              "      <td>1.6</td>\n",
              "      <td>1272.25</td>\n",
              "      <td>51.0</td>\n",
              "      <td>6.518224</td>\n",
              "      <td>835.50</td>\n",
              "      <td>131.0</td>\n",
              "      <td>1205.00</td>\n",
              "      <td>116.0</td>\n",
              "      <td>1490.00</td>\n",
              "      <td>1110.00</td>\n",
              "      <td>11.150</td>\n",
              "      <td>59.575001</td>\n",
              "      <td>0.788794</td>\n",
              "    </tr>\n",
              "    <tr>\n",
              "      <th>...</th>\n",
              "      <td>...</td>\n",
              "      <td>...</td>\n",
              "      <td>...</td>\n",
              "      <td>...</td>\n",
              "      <td>...</td>\n",
              "      <td>...</td>\n",
              "      <td>...</td>\n",
              "      <td>...</td>\n",
              "      <td>...</td>\n",
              "      <td>...</td>\n",
              "      <td>...</td>\n",
              "      <td>...</td>\n",
              "      <td>...</td>\n",
              "      <td>...</td>\n",
              "      <td>...</td>\n",
              "    </tr>\n",
              "    <tr>\n",
              "      <th>1226</th>\n",
              "      <td>2004-04-30</td>\n",
              "      <td>20:00:00</td>\n",
              "      <td>4.4</td>\n",
              "      <td>1449.25</td>\n",
              "      <td>501.0</td>\n",
              "      <td>19.494597</td>\n",
              "      <td>1282.25</td>\n",
              "      <td>254.0</td>\n",
              "      <td>625.00</td>\n",
              "      <td>133.0</td>\n",
              "      <td>2099.50</td>\n",
              "      <td>1568.50</td>\n",
              "      <td>19.075</td>\n",
              "      <td>61.075001</td>\n",
              "      <td>1.334500</td>\n",
              "    </tr>\n",
              "    <tr>\n",
              "      <th>1227</th>\n",
              "      <td>2004-04-30</td>\n",
              "      <td>21:00:00</td>\n",
              "      <td>3.1</td>\n",
              "      <td>1362.50</td>\n",
              "      <td>234.0</td>\n",
              "      <td>15.100351</td>\n",
              "      <td>1151.75</td>\n",
              "      <td>189.0</td>\n",
              "      <td>683.75</td>\n",
              "      <td>110.0</td>\n",
              "      <td>1951.25</td>\n",
              "      <td>1494.75</td>\n",
              "      <td>18.200</td>\n",
              "      <td>65.350002</td>\n",
              "      <td>1.352888</td>\n",
              "    </tr>\n",
              "    <tr>\n",
              "      <th>1228</th>\n",
              "      <td>2004-04-30</td>\n",
              "      <td>22:00:00</td>\n",
              "      <td>3.0</td>\n",
              "      <td>1371.25</td>\n",
              "      <td>212.0</td>\n",
              "      <td>14.594739</td>\n",
              "      <td>1135.75</td>\n",
              "      <td>174.0</td>\n",
              "      <td>689.00</td>\n",
              "      <td>102.0</td>\n",
              "      <td>1926.75</td>\n",
              "      <td>1471.25</td>\n",
              "      <td>18.075</td>\n",
              "      <td>66.100000</td>\n",
              "      <td>1.357869</td>\n",
              "    </tr>\n",
              "    <tr>\n",
              "      <th>1229</th>\n",
              "      <td>2004-04-30</td>\n",
              "      <td>23:00:00</td>\n",
              "      <td>3.1</td>\n",
              "      <td>1406.25</td>\n",
              "      <td>275.0</td>\n",
              "      <td>13.697100</td>\n",
              "      <td>1106.75</td>\n",
              "      <td>167.0</td>\n",
              "      <td>718.25</td>\n",
              "      <td>108.0</td>\n",
              "      <td>1871.50</td>\n",
              "      <td>1383.75</td>\n",
              "      <td>17.700</td>\n",
              "      <td>66.875000</td>\n",
              "      <td>1.342218</td>\n",
              "    </tr>\n",
              "    <tr>\n",
              "      <th>1230</th>\n",
              "      <td>2004-05-01</td>\n",
              "      <td>00:00:00</td>\n",
              "      <td>3.5</td>\n",
              "      <td>1424.50</td>\n",
              "      <td>275.0</td>\n",
              "      <td>15.187992</td>\n",
              "      <td>1154.50</td>\n",
              "      <td>185.0</td>\n",
              "      <td>709.25</td>\n",
              "      <td>110.0</td>\n",
              "      <td>1935.75</td>\n",
              "      <td>1788.75</td>\n",
              "      <td>17.775</td>\n",
              "      <td>66.750002</td>\n",
              "      <td>1.345960</td>\n",
              "    </tr>\n",
              "  </tbody>\n",
              "</table>\n",
              "<p>827 rows × 15 columns</p>\n",
              "</div>"
            ],
            "text/plain": [
              "           Date      Time  CO(GT)  ...       T         RH        AH\n",
              "0    2004-03-10  18:00:00     2.6  ...  13.600  48.875001  0.757754\n",
              "1    2004-03-10  19:00:00     2.0  ...  13.300  47.700000  0.725487\n",
              "2    2004-03-10  20:00:00     2.2  ...  11.900  53.975000  0.750239\n",
              "3    2004-03-10  21:00:00     2.2  ...  11.000  60.000000  0.786713\n",
              "4    2004-03-10  22:00:00     1.6  ...  11.150  59.575001  0.788794\n",
              "...         ...       ...     ...  ...     ...        ...       ...\n",
              "1226 2004-04-30  20:00:00     4.4  ...  19.075  61.075001  1.334500\n",
              "1227 2004-04-30  21:00:00     3.1  ...  18.200  65.350002  1.352888\n",
              "1228 2004-04-30  22:00:00     3.0  ...  18.075  66.100000  1.357869\n",
              "1229 2004-04-30  23:00:00     3.1  ...  17.700  66.875000  1.342218\n",
              "1230 2004-05-01  00:00:00     3.5  ...  17.775  66.750002  1.345960\n",
              "\n",
              "[827 rows x 15 columns]"
            ]
          },
          "metadata": {
            "tags": []
          },
          "execution_count": 86
        }
      ]
    },
    {
      "cell_type": "code",
      "metadata": {
        "id": "P1_shFKFMSpw",
        "colab_type": "code",
        "colab": {
          "base_uri": "https://localhost:8080/",
          "height": 34
        },
        "outputId": "33826c06-b556-41b3-a376-00966a6a101f"
      },
      "source": [
        "air_data.shape"
      ],
      "execution_count": 87,
      "outputs": [
        {
          "output_type": "execute_result",
          "data": {
            "text/plain": [
              "(827, 15)"
            ]
          },
          "metadata": {
            "tags": []
          },
          "execution_count": 87
        }
      ]
    },
    {
      "cell_type": "code",
      "metadata": {
        "id": "Yf_8-DwPM1nu",
        "colab_type": "code",
        "colab": {}
      },
      "source": [
        "from sklearn.preprocessing import MinMaxScaler"
      ],
      "execution_count": 88,
      "outputs": []
    },
    {
      "cell_type": "code",
      "metadata": {
        "id": "XWrznwYANDKc",
        "colab_type": "code",
        "colab": {}
      },
      "source": [
        "scaler=MinMaxScaler()\n",
        "X=air_data.drop(['Date', 'Time','AH'], axis=1)\n",
        "X=scaler.fit_transform(X)"
      ],
      "execution_count": 89,
      "outputs": []
    },
    {
      "cell_type": "code",
      "metadata": {
        "id": "af4jTVTCNIBb",
        "colab_type": "code",
        "colab": {}
      },
      "source": [
        "Y=air_data.AH"
      ],
      "execution_count": 90,
      "outputs": []
    },
    {
      "cell_type": "code",
      "metadata": {
        "id": "DqDGkODeNNvm",
        "colab_type": "code",
        "colab": {
          "base_uri": "https://localhost:8080/",
          "height": 246
        },
        "outputId": "9ccfc8ac-4014-4324-dbfe-54135be00de2"
      },
      "source": [
        "X"
      ],
      "execution_count": 91,
      "outputs": [
        {
          "output_type": "execute_result",
          "data": {
            "text/plain": [
              "array([[0.29487179, 0.4719363 , 0.12098139, ..., 0.47936053, 0.30874605,\n",
              "        0.49725579],\n",
              "       [0.21794872, 0.41930472, 0.08883249, ..., 0.33846337, 0.29610116,\n",
              "        0.48005855],\n",
              "       [0.24358974, 0.50456399, 0.06852792, ..., 0.3870198 , 0.23709168,\n",
              "        0.57189903],\n",
              "       ...,\n",
              "       [0.34615385, 0.48067586, 0.17343486, ..., 0.5765927 , 0.49736564,\n",
              "        0.7493597 ],\n",
              "       [0.35897436, 0.5078656 , 0.22673435, ..., 0.53483655, 0.48155953,\n",
              "        0.76070254],\n",
              "       [0.41025641, 0.52204312, 0.22673435, ..., 0.72810785, 0.48472076,\n",
              "        0.75887308]])"
            ]
          },
          "metadata": {
            "tags": []
          },
          "execution_count": 91
        }
      ]
    },
    {
      "cell_type": "code",
      "metadata": {
        "id": "9lPEzFCNNOu4",
        "colab_type": "code",
        "colab": {
          "base_uri": "https://localhost:8080/",
          "height": 228
        },
        "outputId": "9fbb689a-68db-430f-e2b4-cb44722fefb8"
      },
      "source": [
        "Y"
      ],
      "execution_count": 92,
      "outputs": [
        {
          "output_type": "execute_result",
          "data": {
            "text/plain": [
              "0       0.757754\n",
              "1       0.725487\n",
              "2       0.750239\n",
              "3       0.786713\n",
              "4       0.788794\n",
              "          ...   \n",
              "1226    1.334500\n",
              "1227    1.352888\n",
              "1228    1.357869\n",
              "1229    1.342218\n",
              "1230    1.345960\n",
              "Name: AH, Length: 827, dtype: float64"
            ]
          },
          "metadata": {
            "tags": []
          },
          "execution_count": 92
        }
      ]
    },
    {
      "cell_type": "code",
      "metadata": {
        "id": "LQzCSfNoRX7W",
        "colab_type": "code",
        "colab": {
          "base_uri": "https://localhost:8080/",
          "height": 34
        },
        "outputId": "b5b9fc13-ab1c-4812-a12c-8e37dac2e992"
      },
      "source": [
        "X.shape"
      ],
      "execution_count": 93,
      "outputs": [
        {
          "output_type": "execute_result",
          "data": {
            "text/plain": [
              "(827, 12)"
            ]
          },
          "metadata": {
            "tags": []
          },
          "execution_count": 93
        }
      ]
    },
    {
      "cell_type": "code",
      "metadata": {
        "id": "y0Znqnm5OisV",
        "colab_type": "code",
        "colab": {}
      },
      "source": [
        "from sklearn.decomposition import PCA"
      ],
      "execution_count": 94,
      "outputs": []
    },
    {
      "cell_type": "code",
      "metadata": {
        "id": "ssil_oBFOnxu",
        "colab_type": "code",
        "colab": {}
      },
      "source": [
        "pca = PCA(n_components=1)\n",
        "X_new = pca.fit_transform(X)"
      ],
      "execution_count": 146,
      "outputs": []
    },
    {
      "cell_type": "code",
      "metadata": {
        "id": "40DRNzZWO0Iv",
        "colab_type": "code",
        "colab": {
          "base_uri": "https://localhost:8080/",
          "height": 650
        },
        "outputId": "10b14d13-1abc-4346-8f9d-8aa6f450242a"
      },
      "source": [
        "pca.get_covariance()"
      ],
      "execution_count": 147,
      "outputs": [
        {
          "output_type": "execute_result",
          "data": {
            "text/plain": [
              "array([[ 0.04020937,  0.03028095,  0.02630723,  0.03183798,  0.03416663,\n",
              "         0.02789694, -0.02760392,  0.02713717,  0.02850118,  0.03010042,\n",
              "         0.01559318, -0.0069443 ],\n",
              "       [ 0.03028095,  0.04171217,  0.02696813,  0.03263782,  0.03502497,\n",
              "         0.02859777, -0.02829739,  0.02781891,  0.02921719,  0.03085661,\n",
              "         0.01598492, -0.00711876],\n",
              "       [ 0.02630723,  0.02696813,  0.03409964,  0.02835481,  0.0304287 ,\n",
              "         0.02484493, -0.02458397,  0.02416828,  0.02538307,  0.02680735,\n",
              "         0.01388724, -0.00618457],\n",
              "       [ 0.03183798,  0.03263782,  0.02835481,  0.04498653,  0.03682593,\n",
              "         0.03006825, -0.02975243,  0.02924935,  0.03071952,  0.03244324,\n",
              "         0.01680685, -0.0074848 ],\n",
              "       [ 0.03416663,  0.03502497,  0.0304287 ,  0.03682593,  0.0501899 ,\n",
              "         0.03226746, -0.03192854,  0.03138866,  0.03296637,  0.03481616,\n",
              "         0.01803612, -0.00803224],\n",
              "       [ 0.02789694,  0.02859777,  0.02484493,  0.03006825,  0.03226746,\n",
              "         0.03701677, -0.02606955,  0.02562874,  0.02691693,  0.02842728,\n",
              "         0.01472643, -0.0065583 ],\n",
              "       [-0.02760392, -0.02829739, -0.02458397, -0.02975243, -0.03192854,\n",
              "        -0.02606955,  0.03646621, -0.02535955, -0.02663421, -0.02812869,\n",
              "        -0.01457175,  0.00648941],\n",
              "       [ 0.02713717,  0.02781891,  0.02416828,  0.02924935,  0.03138866,\n",
              "         0.02562874, -0.02535955,  0.03560124,  0.02618385,  0.02765306,\n",
              "         0.01432536, -0.00637968],\n",
              "       [ 0.02850118,  0.02921719,  0.02538307,  0.03071952,  0.03296637,\n",
              "         0.02691693, -0.02663421,  0.02618385,  0.03817044,  0.029043  ,\n",
              "         0.0150454 , -0.00670035],\n",
              "       [ 0.03010042,  0.03085661,  0.02680735,  0.03244324,  0.03481616,\n",
              "         0.02842728, -0.02812869,  0.02765306,  0.029043  ,  0.04134314,\n",
              "         0.01588962, -0.00707632],\n",
              "       [ 0.01559318,  0.01598492,  0.01388724,  0.01680685,  0.01803612,\n",
              "         0.01472643, -0.01457175,  0.01432536,  0.0150454 ,  0.01588962,\n",
              "         0.01890193, -0.0036658 ],\n",
              "       [-0.0069443 , -0.00711876, -0.00618457, -0.0074848 , -0.00803224,\n",
              "        -0.0065583 ,  0.00648941, -0.00637968, -0.00670035, -0.00707632,\n",
              "        -0.0036658 ,  0.01230303]])"
            ]
          },
          "metadata": {
            "tags": []
          },
          "execution_count": 147
        }
      ]
    },
    {
      "cell_type": "code",
      "metadata": {
        "id": "ZeD9ff0tO4gr",
        "colab_type": "code",
        "colab": {
          "base_uri": "https://localhost:8080/",
          "height": 34
        },
        "outputId": "32c27b5a-b2ac-452f-c84f-c21bcf78a298"
      },
      "source": [
        "X_new.shape"
      ],
      "execution_count": 148,
      "outputs": [
        {
          "output_type": "execute_result",
          "data": {
            "text/plain": [
              "(827, 1)"
            ]
          },
          "metadata": {
            "tags": []
          },
          "execution_count": 148
        }
      ]
    },
    {
      "cell_type": "code",
      "metadata": {
        "id": "ocwakYzkPFeQ",
        "colab_type": "code",
        "colab": {
          "base_uri": "https://localhost:8080/",
          "height": 34
        },
        "outputId": "acfa58fe-4f98-43d4-f478-30052fe5a19a"
      },
      "source": [
        "explained_variance=pca.explained_variance_ratio_\n",
        "explained_variance"
      ],
      "execution_count": 149,
      "outputs": [
        {
          "output_type": "execute_result",
          "data": {
            "text/plain": [
              "array([0.72766747])"
            ]
          },
          "metadata": {
            "tags": []
          },
          "execution_count": 149
        }
      ]
    },
    {
      "cell_type": "code",
      "metadata": {
        "id": "n75yiy2oPjJh",
        "colab_type": "code",
        "colab": {
          "base_uri": "https://localhost:8080/",
          "height": 297
        },
        "outputId": "e57bf36e-0333-4133-8221-e191d937446f"
      },
      "source": [
        "with plt.style.context('dark_background'):\n",
        "  plt.figure(figsize=(6,4))\n",
        "  plt.bar(range(1), explained_variance, alpha=0.5, align = 'center', label = 'individual explained variance')\n",
        "  plt.ylabel('Explained variance ratio')\n",
        "  plt.xlabel('Principle Components')\n",
        "  plt.legend(loc='best')\n",
        "  plt.tight_layout()"
      ],
      "execution_count": 150,
      "outputs": [
        {
          "output_type": "display_data",
          "data": {
            "image/png": "[encoded data removed]",
            "text/plain": [
              "<Figure size 432x288 with 1 Axes>"
            ]
          },
          "metadata": {
            "tags": []
          }
        }
      ]
    },
    {
      "cell_type": "code",
      "metadata": {
        "id": "wuYYuLJ3PxL-",
        "colab_type": "code",
        "colab": {
          "base_uri": "https://localhost:8080/",
          "height": 334
        },
        "outputId": "4fd66342-eb66-4330-fee3-0b87527d2719"
      },
      "source": [
        "from keras.models import Sequential\n",
        "from keras.layers import Dense\n",
        "from keras.optimizers import SGD,Adam\n",
        "\n",
        "model = Sequential()\n",
        "\n",
        "model.add(Dense(144,input_shape=(1,),activation='relu'))\n",
        "\n",
        "model.add(Dense(288,activation='relu'))\n",
        "model.add(Dense(288,activation='relu'))\n",
        "model.add(Dense(144,activation='relu'))\n",
        "model.add(Dense(1,activation='linear'))\n",
        "\n",
        "model.compile(Adam(lr=0.01),loss='mse', metrics=['mse'])\n",
        "\n",
        "model.summary()"
      ],
      "execution_count": 152,
      "outputs": [
        {
          "output_type": "stream",
          "text": [
            "Model: \"sequential\"\n",
            "_________________________________________________________________\n",
            "Layer (type)                 Output Shape              Param #   \n",
            "=================================================================\n",
            "dense (Dense)                (None, 144)               288       \n",
            "_________________________________________________________________\n",
            "dense_1 (Dense)              (None, 288)               41760     \n",
            "_________________________________________________________________\n",
            "dense_2 (Dense)              (None, 288)               83232     \n",
            "_________________________________________________________________\n",
            "dense_3 (Dense)              (None, 144)               41616     \n",
            "_________________________________________________________________\n",
            "dense_4 (Dense)              (None, 1)                 145       \n",
            "=================================================================\n",
            "Total params: 167,041\n",
            "Trainable params: 167,041\n",
            "Non-trainable params: 0\n",
            "_________________________________________________________________\n"
          ],
          "name": "stdout"
        }
      ]
    },
    {
      "cell_type": "code",
      "metadata": {
        "id": "zJG3V3AqTxPw",
        "colab_type": "code",
        "colab": {}
      },
      "source": [
        "import keras\n",
        "keras.backend.clear_session() "
      ],
      "execution_count": 151,
      "outputs": []
    },
    {
      "cell_type": "code",
      "metadata": {
        "id": "vUvO7enDQkah",
        "colab_type": "code",
        "colab": {}
      },
      "source": [
        "X_train, X_test, y_train, y_test = train_test_split(X_new, Y, test_size = 0.3, random_state=2)"
      ],
      "execution_count": 153,
      "outputs": []
    },
    {
      "cell_type": "code",
      "metadata": {
        "id": "zs-pPpZRRzWz",
        "colab_type": "code",
        "colab": {
          "base_uri": "https://localhost:8080/",
          "height": 1000
        },
        "outputId": "0449cf50-dfa1-4d90-ff26-1883b289b0d4"
      },
      "source": [
        "model.fit(X_train,y_train,epochs=100)"
      ],
      "execution_count": 154,
      "outputs": [
        {
          "output_type": "stream",
          "text": [
            "Epoch 1/100\n",
            "19/19 [==============================] - 0s 3ms/step - loss: 0.2404 - mse: 0.2404\n",
            "Epoch 2/100\n",
            "19/19 [==============================] - 0s 3ms/step - loss: 0.0336 - mse: 0.0336\n",
            "Epoch 3/100\n",
            "19/19 [==============================] - 0s 3ms/step - loss: 0.0319 - mse: 0.0319\n",
            "Epoch 4/100\n",
            "19/19 [==============================] - 0s 4ms/step - loss: 0.0313 - mse: 0.0313\n",
            "Epoch 5/100\n",
            "19/19 [==============================] - 0s 4ms/step - loss: 0.0291 - mse: 0.0291\n",
            "Epoch 6/100\n",
            "19/19 [==============================] - 0s 3ms/step - loss: 0.0290 - mse: 0.0290\n",
            "Epoch 7/100\n",
            "19/19 [==============================] - 0s 3ms/step - loss: 0.0284 - mse: 0.0284\n",
            "Epoch 8/100\n",
            "19/19 [==============================] - 0s 3ms/step - loss: 0.0288 - mse: 0.0288\n",
            "Epoch 9/100\n",
            "19/19 [==============================] - 0s 3ms/step - loss: 0.0290 - mse: 0.0290\n",
            "Epoch 10/100\n",
            "19/19 [==============================] - 0s 3ms/step - loss: 0.0294 - mse: 0.0294\n",
            "Epoch 11/100\n",
            "19/19 [==============================] - 0s 3ms/step - loss: 0.0298 - mse: 0.0298\n",
            "Epoch 12/100\n",
            "19/19 [==============================] - 0s 3ms/step - loss: 0.0282 - mse: 0.0282\n",
            "Epoch 13/100\n",
            "19/19 [==============================] - 0s 3ms/step - loss: 0.0287 - mse: 0.0287\n",
            "Epoch 14/100\n",
            "19/19 [==============================] - 0s 3ms/step - loss: 0.0365 - mse: 0.0365\n",
            "Epoch 15/100\n",
            "19/19 [==============================] - 0s 3ms/step - loss: 0.0305 - mse: 0.0305\n",
            "Epoch 16/100\n",
            "19/19 [==============================] - 0s 3ms/step - loss: 0.0355 - mse: 0.0355\n",
            "Epoch 17/100\n",
            "19/19 [==============================] - 0s 3ms/step - loss: 0.0307 - mse: 0.0307\n",
            "Epoch 18/100\n",
            "19/19 [==============================] - 0s 3ms/step - loss: 0.0288 - mse: 0.0288\n",
            "Epoch 19/100\n",
            "19/19 [==============================] - 0s 3ms/step - loss: 0.0286 - mse: 0.0286\n",
            "Epoch 20/100\n",
            "19/19 [==============================] - 0s 3ms/step - loss: 0.0309 - mse: 0.0309\n",
            "Epoch 21/100\n",
            "19/19 [==============================] - 0s 3ms/step - loss: 0.0300 - mse: 0.0300\n",
            "Epoch 22/100\n",
            "19/19 [==============================] - 0s 3ms/step - loss: 0.0299 - mse: 0.0299\n",
            "Epoch 23/100\n",
            "19/19 [==============================] - 0s 3ms/step - loss: 0.0336 - mse: 0.0336\n",
            "Epoch 24/100\n",
            "19/19 [==============================] - 0s 3ms/step - loss: 0.0291 - mse: 0.0291\n",
            "Epoch 25/100\n",
            "19/19 [==============================] - 0s 3ms/step - loss: 0.0286 - mse: 0.0286\n",
            "Epoch 26/100\n",
            "19/19 [==============================] - 0s 3ms/step - loss: 0.0286 - mse: 0.0286\n",
            "Epoch 27/100\n",
            "19/19 [==============================] - 0s 3ms/step - loss: 0.0293 - mse: 0.0293\n",
            "Epoch 28/100\n",
            "19/19 [==============================] - 0s 4ms/step - loss: 0.0286 - mse: 0.0286\n",
            "Epoch 29/100\n",
            "19/19 [==============================] - 0s 3ms/step - loss: 0.0285 - mse: 0.0285\n",
            "Epoch 30/100\n",
            "19/19 [==============================] - 0s 3ms/step - loss: 0.0293 - mse: 0.0293\n",
            "Epoch 31/100\n",
            "19/19 [==============================] - 0s 3ms/step - loss: 0.0331 - mse: 0.0331\n",
            "Epoch 32/100\n",
            "19/19 [==============================] - 0s 3ms/step - loss: 0.0304 - mse: 0.0304\n",
            "Epoch 33/100\n",
            "19/19 [==============================] - 0s 3ms/step - loss: 0.0287 - mse: 0.0287\n",
            "Epoch 34/100\n",
            "19/19 [==============================] - 0s 4ms/step - loss: 0.0287 - mse: 0.0287\n",
            "Epoch 35/100\n",
            "19/19 [==============================] - 0s 3ms/step - loss: 0.0288 - mse: 0.0288\n",
            "Epoch 36/100\n",
            "19/19 [==============================] - 0s 3ms/step - loss: 0.0285 - mse: 0.0285\n",
            "Epoch 37/100\n",
            "19/19 [==============================] - 0s 3ms/step - loss: 0.0287 - mse: 0.0287\n",
            "Epoch 38/100\n",
            "19/19 [==============================] - 0s 3ms/step - loss: 0.0292 - mse: 0.0292\n",
            "Epoch 39/100\n",
            "19/19 [==============================] - 0s 3ms/step - loss: 0.0288 - mse: 0.0288\n",
            "Epoch 40/100\n",
            "19/19 [==============================] - 0s 3ms/step - loss: 0.0283 - mse: 0.0283\n",
            "Epoch 41/100\n",
            "19/19 [==============================] - 0s 3ms/step - loss: 0.0299 - mse: 0.0299\n",
            "Epoch 42/100\n",
            "19/19 [==============================] - 0s 3ms/step - loss: 0.0305 - mse: 0.0305\n",
            "Epoch 43/100\n",
            "19/19 [==============================] - 0s 3ms/step - loss: 0.0300 - mse: 0.0300\n",
            "Epoch 44/100\n",
            "19/19 [==============================] - 0s 3ms/step - loss: 0.0284 - mse: 0.0284\n",
            "Epoch 45/100\n",
            "19/19 [==============================] - 0s 3ms/step - loss: 0.0301 - mse: 0.0301\n",
            "Epoch 46/100\n",
            "19/19 [==============================] - 0s 3ms/step - loss: 0.0286 - mse: 0.0286\n",
            "Epoch 47/100\n",
            "19/19 [==============================] - 0s 3ms/step - loss: 0.0286 - mse: 0.0286\n",
            "Epoch 48/100\n",
            "19/19 [==============================] - 0s 3ms/step - loss: 0.0300 - mse: 0.0300\n",
            "Epoch 49/100\n",
            "19/19 [==============================] - 0s 4ms/step - loss: 0.0308 - mse: 0.0308\n",
            "Epoch 50/100\n",
            "19/19 [==============================] - 0s 3ms/step - loss: 0.0288 - mse: 0.0288\n",
            "Epoch 51/100\n",
            "19/19 [==============================] - 0s 3ms/step - loss: 0.0294 - mse: 0.0294\n",
            "Epoch 52/100\n",
            "19/19 [==============================] - 0s 3ms/step - loss: 0.0286 - mse: 0.0286\n",
            "Epoch 53/100\n",
            "19/19 [==============================] - 0s 3ms/step - loss: 0.0282 - mse: 0.0282\n",
            "Epoch 54/100\n",
            "19/19 [==============================] - 0s 3ms/step - loss: 0.0296 - mse: 0.0296\n",
            "Epoch 55/100\n",
            "19/19 [==============================] - 0s 3ms/step - loss: 0.0287 - mse: 0.0287\n",
            "Epoch 56/100\n",
            "19/19 [==============================] - 0s 3ms/step - loss: 0.0302 - mse: 0.0302\n",
            "Epoch 57/100\n",
            "19/19 [==============================] - 0s 3ms/step - loss: 0.0283 - mse: 0.0283\n",
            "Epoch 58/100\n",
            "19/19 [==============================] - 0s 3ms/step - loss: 0.0289 - mse: 0.0289\n",
            "Epoch 59/100\n",
            "19/19 [==============================] - 0s 3ms/step - loss: 0.0336 - mse: 0.0336\n",
            "Epoch 60/100\n",
            "19/19 [==============================] - 0s 3ms/step - loss: 0.0320 - mse: 0.0320\n",
            "Epoch 61/100\n",
            "19/19 [==============================] - 0s 3ms/step - loss: 0.0291 - mse: 0.0291\n",
            "Epoch 62/100\n",
            "19/19 [==============================] - 0s 3ms/step - loss: 0.0291 - mse: 0.0291\n",
            "Epoch 63/100\n",
            "19/19 [==============================] - 0s 3ms/step - loss: 0.0303 - mse: 0.0303\n",
            "Epoch 64/100\n",
            "19/19 [==============================] - 0s 4ms/step - loss: 0.0306 - mse: 0.0306\n",
            "Epoch 65/100\n",
            "19/19 [==============================] - 0s 3ms/step - loss: 0.0284 - mse: 0.0284\n",
            "Epoch 66/100\n",
            "19/19 [==============================] - 0s 3ms/step - loss: 0.0291 - mse: 0.0291\n",
            "Epoch 67/100\n",
            "19/19 [==============================] - 0s 3ms/step - loss: 0.0283 - mse: 0.0283\n",
            "Epoch 68/100\n",
            "19/19 [==============================] - 0s 3ms/step - loss: 0.0279 - mse: 0.0279\n",
            "Epoch 69/100\n",
            "19/19 [==============================] - 0s 3ms/step - loss: 0.0279 - mse: 0.0279\n",
            "Epoch 70/100\n",
            "19/19 [==============================] - 0s 3ms/step - loss: 0.0288 - mse: 0.0288\n",
            "Epoch 71/100\n",
            "19/19 [==============================] - 0s 3ms/step - loss: 0.0315 - mse: 0.0315\n",
            "Epoch 72/100\n",
            "19/19 [==============================] - 0s 3ms/step - loss: 0.0319 - mse: 0.0319\n",
            "Epoch 73/100\n",
            "19/19 [==============================] - 0s 3ms/step - loss: 0.0342 - mse: 0.0342\n",
            "Epoch 74/100\n",
            "19/19 [==============================] - 0s 3ms/step - loss: 0.0299 - mse: 0.0299\n",
            "Epoch 75/100\n",
            "19/19 [==============================] - 0s 3ms/step - loss: 0.0306 - mse: 0.0306\n",
            "Epoch 76/100\n",
            "19/19 [==============================] - 0s 3ms/step - loss: 0.0312 - mse: 0.0312\n",
            "Epoch 77/100\n",
            "19/19 [==============================] - 0s 3ms/step - loss: 0.0287 - mse: 0.0287\n",
            "Epoch 78/100\n",
            "19/19 [==============================] - 0s 3ms/step - loss: 0.0285 - mse: 0.0285\n",
            "Epoch 79/100\n",
            "19/19 [==============================] - 0s 4ms/step - loss: 0.0280 - mse: 0.0280\n",
            "Epoch 80/100\n",
            "19/19 [==============================] - 0s 3ms/step - loss: 0.0288 - mse: 0.0288\n",
            "Epoch 81/100\n",
            "19/19 [==============================] - 0s 3ms/step - loss: 0.0300 - mse: 0.0300\n",
            "Epoch 82/100\n",
            "19/19 [==============================] - 0s 3ms/step - loss: 0.0307 - mse: 0.0307\n",
            "Epoch 83/100\n",
            "19/19 [==============================] - 0s 3ms/step - loss: 0.0297 - mse: 0.0297\n",
            "Epoch 84/100\n",
            "19/19 [==============================] - 0s 3ms/step - loss: 0.0292 - mse: 0.0292\n",
            "Epoch 85/100\n",
            "19/19 [==============================] - 0s 3ms/step - loss: 0.0283 - mse: 0.0283\n",
            "Epoch 86/100\n",
            "19/19 [==============================] - 0s 3ms/step - loss: 0.0285 - mse: 0.0285\n",
            "Epoch 87/100\n",
            "19/19 [==============================] - 0s 3ms/step - loss: 0.0286 - mse: 0.0286\n",
            "Epoch 88/100\n",
            "19/19 [==============================] - 0s 3ms/step - loss: 0.0281 - mse: 0.0281\n",
            "Epoch 89/100\n",
            "19/19 [==============================] - 0s 3ms/step - loss: 0.0279 - mse: 0.0279\n",
            "Epoch 90/100\n",
            "19/19 [==============================] - 0s 3ms/step - loss: 0.0293 - mse: 0.0293\n",
            "Epoch 91/100\n",
            "19/19 [==============================] - 0s 3ms/step - loss: 0.0288 - mse: 0.0288\n",
            "Epoch 92/100\n",
            "19/19 [==============================] - 0s 3ms/step - loss: 0.0283 - mse: 0.0283\n",
            "Epoch 93/100\n",
            "19/19 [==============================] - 0s 3ms/step - loss: 0.0281 - mse: 0.0281\n",
            "Epoch 94/100\n",
            "19/19 [==============================] - 0s 3ms/step - loss: 0.0289 - mse: 0.0289\n",
            "Epoch 95/100\n",
            "19/19 [==============================] - 0s 4ms/step - loss: 0.0277 - mse: 0.0277\n",
            "Epoch 96/100\n",
            "19/19 [==============================] - 0s 3ms/step - loss: 0.0286 - mse: 0.0286\n",
            "Epoch 97/100\n",
            "19/19 [==============================] - 0s 3ms/step - loss: 0.0291 - mse: 0.0291\n",
            "Epoch 98/100\n",
            "19/19 [==============================] - 0s 3ms/step - loss: 0.0281 - mse: 0.0281\n",
            "Epoch 99/100\n",
            "19/19 [==============================] - 0s 3ms/step - loss: 0.0284 - mse: 0.0284\n",
            "Epoch 100/100\n",
            "19/19 [==============================] - 0s 3ms/step - loss: 0.0287 - mse: 0.0287\n"
          ],
          "name": "stdout"
        },
        {
          "output_type": "execute_result",
          "data": {
            "text/plain": [
              "<tensorflow.python.keras.callbacks.History at 0x7facacd7a0b8>"
            ]
          },
          "metadata": {
            "tags": []
          },
          "execution_count": 154
        }
      ]
    },
    {
      "cell_type": "markdown",
      "metadata": {
        "id": "0n6qDoJ1Sw3a",
        "colab_type": "text"
      },
      "source": [
        "loss: 4.0620e-05 - mse: 4.0620e-05\n",
        "\n",
        "for 12 components\n",
        "\n"
      ]
    },
    {
      "cell_type": "markdown",
      "metadata": {
        "id": "hNteFWcCTYXl",
        "colab_type": "text"
      },
      "source": [
        "loss: 4.8324e-05 - mse: 4.8324e-05\n",
        "\n",
        "for 10 components"
      ]
    },
    {
      "cell_type": "markdown",
      "metadata": {
        "id": "A8LhD5zUUJ0j",
        "colab_type": "text"
      },
      "source": [
        " loss: 4.6547e-05 - mse: 4.6547e-05 \n",
        " \n",
        " for 8 components "
      ]
    },
    {
      "cell_type": "markdown",
      "metadata": {
        "id": "EfNK60jjUeXw",
        "colab_type": "text"
      },
      "source": [
        "loss: 0.0023 - mse: 0.0023\n",
        "\n",
        "for 4 components"
      ]
    },
    {
      "cell_type": "markdown",
      "metadata": {
        "id": "qZAjN-JTU4fj",
        "colab_type": "text"
      },
      "source": [
        "loss: 0.0242 - mse: 0.0242\n",
        "\n",
        "for 2 components "
      ]
    },
    {
      "cell_type": "markdown",
      "metadata": {
        "id": "xCIvt_euVTfp",
        "colab_type": "text"
      },
      "source": [
        "loss: 0.0287 - mse: 0.0287\n",
        "\n",
        "for single component"
      ]
    },
    {
      "cell_type": "markdown",
      "metadata": {
        "id": "WeAAS6mNVpvl",
        "colab_type": "text"
      },
      "source": [
        "Here we can see as we are removing components accuracy decreases gradually "
      ]
    },
    {
      "cell_type": "code",
      "metadata": {
        "id": "dLG4R5gjV0X-",
        "colab_type": "code",
        "colab": {}
      },
      "source": [
        ""
      ],
      "execution_count": null,
      "outputs": []
    }
  ]
}