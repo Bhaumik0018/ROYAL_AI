{
  "nbformat": 4,
  "nbformat_minor": 0,
  "metadata": {
    "colab": {
      "name": "Insurance.ipynb",
      "provenance": [],
      "collapsed_sections": []
    },
    "kernelspec": {
      "name": "python3",
      "display_name": "Python 3"
    }
  },
  "cells": [
    {
      "cell_type": "code",
      "metadata": {
        "id": "Cq5RX_0COZtW",
        "colab_type": "code",
        "colab": {}
      },
      "source": [
        "import numpy as np\n",
        "import pandas as pd\n",
        "import keras.utils as to_categorical\n",
        "from sklearn.preprocessing import LabelEncoder"
      ],
      "execution_count": 1,
      "outputs": []
    },
    {
      "cell_type": "markdown",
      "metadata": {
        "id": "e6jF_WaGO4eQ",
        "colab_type": "text"
      },
      "source": [
        "The dataset we are using is of insuinsurance "
      ]
    },
    {
      "cell_type": "code",
      "metadata": {
        "id": "8baFtzzZO8Ld",
        "colab_type": "code",
        "colab": {}
      },
      "source": [
        "data=pd.read_csv(\"/content/datasets_13720_18513_insurance.csv\")"
      ],
      "execution_count": 2,
      "outputs": []
    },
    {
      "cell_type": "code",
      "metadata": {
        "id": "HokPYQH7PE3U",
        "colab_type": "code",
        "colab": {
          "base_uri": "https://localhost:8080/",
          "height": 402
        },
        "outputId": "f4e2e2ff-23cc-4987-afae-a9ebfbaf76f4"
      },
      "source": [
        "data"
      ],
      "execution_count": 3,
      "outputs": [
        {
          "output_type": "execute_result",
          "data": {
            "text/html": [
              "<div>\n",
              "<style scoped>\n",
              "    .dataframe tbody tr th:only-of-type {\n",
              "        vertical-align: middle;\n",
              "    }\n",
              "\n",
              "    .dataframe tbody tr th {\n",
              "        vertical-align: top;\n",
              "    }\n",
              "\n",
              "    .dataframe thead th {\n",
              "        text-align: right;\n",
              "    }\n",
              "</style>\n",
              "<table border=\"1\" class=\"dataframe\">\n",
              "  <thead>\n",
              "    <tr style=\"text-align: right;\">\n",
              "      <th></th>\n",
              "      <th>age</th>\n",
              "      <th>sex</th>\n",
              "      <th>bmi</th>\n",
              "      <th>children</th>\n",
              "      <th>smoker</th>\n",
              "      <th>region</th>\n",
              "      <th>charges</th>\n",
              "    </tr>\n",
              "  </thead>\n",
              "  <tbody>\n",
              "    <tr>\n",
              "      <th>0</th>\n",
              "      <td>19</td>\n",
              "      <td>female</td>\n",
              "      <td>27.900</td>\n",
              "      <td>0</td>\n",
              "      <td>yes</td>\n",
              "      <td>southwest</td>\n",
              "      <td>16884.92400</td>\n",
              "    </tr>\n",
              "    <tr>\n",
              "      <th>1</th>\n",
              "      <td>18</td>\n",
              "      <td>male</td>\n",
              "      <td>33.770</td>\n",
              "      <td>1</td>\n",
              "      <td>no</td>\n",
              "      <td>southeast</td>\n",
              "      <td>1725.55230</td>\n",
              "    </tr>\n",
              "    <tr>\n",
              "      <th>2</th>\n",
              "      <td>28</td>\n",
              "      <td>male</td>\n",
              "      <td>33.000</td>\n",
              "      <td>3</td>\n",
              "      <td>no</td>\n",
              "      <td>southeast</td>\n",
              "      <td>4449.46200</td>\n",
              "    </tr>\n",
              "    <tr>\n",
              "      <th>3</th>\n",
              "      <td>33</td>\n",
              "      <td>male</td>\n",
              "      <td>22.705</td>\n",
              "      <td>0</td>\n",
              "      <td>no</td>\n",
              "      <td>northwest</td>\n",
              "      <td>21984.47061</td>\n",
              "    </tr>\n",
              "    <tr>\n",
              "      <th>4</th>\n",
              "      <td>32</td>\n",
              "      <td>male</td>\n",
              "      <td>28.880</td>\n",
              "      <td>0</td>\n",
              "      <td>no</td>\n",
              "      <td>northwest</td>\n",
              "      <td>3866.85520</td>\n",
              "    </tr>\n",
              "    <tr>\n",
              "      <th>...</th>\n",
              "      <td>...</td>\n",
              "      <td>...</td>\n",
              "      <td>...</td>\n",
              "      <td>...</td>\n",
              "      <td>...</td>\n",
              "      <td>...</td>\n",
              "      <td>...</td>\n",
              "    </tr>\n",
              "    <tr>\n",
              "      <th>1333</th>\n",
              "      <td>50</td>\n",
              "      <td>male</td>\n",
              "      <td>30.970</td>\n",
              "      <td>3</td>\n",
              "      <td>no</td>\n",
              "      <td>northwest</td>\n",
              "      <td>10600.54830</td>\n",
              "    </tr>\n",
              "    <tr>\n",
              "      <th>1334</th>\n",
              "      <td>18</td>\n",
              "      <td>female</td>\n",
              "      <td>31.920</td>\n",
              "      <td>0</td>\n",
              "      <td>no</td>\n",
              "      <td>northeast</td>\n",
              "      <td>2205.98080</td>\n",
              "    </tr>\n",
              "    <tr>\n",
              "      <th>1335</th>\n",
              "      <td>18</td>\n",
              "      <td>female</td>\n",
              "      <td>36.850</td>\n",
              "      <td>0</td>\n",
              "      <td>no</td>\n",
              "      <td>southeast</td>\n",
              "      <td>1629.83350</td>\n",
              "    </tr>\n",
              "    <tr>\n",
              "      <th>1336</th>\n",
              "      <td>21</td>\n",
              "      <td>female</td>\n",
              "      <td>25.800</td>\n",
              "      <td>0</td>\n",
              "      <td>no</td>\n",
              "      <td>southwest</td>\n",
              "      <td>2007.94500</td>\n",
              "    </tr>\n",
              "    <tr>\n",
              "      <th>1337</th>\n",
              "      <td>61</td>\n",
              "      <td>female</td>\n",
              "      <td>29.070</td>\n",
              "      <td>0</td>\n",
              "      <td>yes</td>\n",
              "      <td>northwest</td>\n",
              "      <td>29141.36030</td>\n",
              "    </tr>\n",
              "  </tbody>\n",
              "</table>\n",
              "<p>1338 rows × 7 columns</p>\n",
              "</div>"
            ],
            "text/plain": [
              "      age     sex     bmi  children smoker     region      charges\n",
              "0      19  female  27.900         0    yes  southwest  16884.92400\n",
              "1      18    male  33.770         1     no  southeast   1725.55230\n",
              "2      28    male  33.000         3     no  southeast   4449.46200\n",
              "3      33    male  22.705         0     no  northwest  21984.47061\n",
              "4      32    male  28.880         0     no  northwest   3866.85520\n",
              "...   ...     ...     ...       ...    ...        ...          ...\n",
              "1333   50    male  30.970         3     no  northwest  10600.54830\n",
              "1334   18  female  31.920         0     no  northeast   2205.98080\n",
              "1335   18  female  36.850         0     no  southeast   1629.83350\n",
              "1336   21  female  25.800         0     no  southwest   2007.94500\n",
              "1337   61  female  29.070         0    yes  northwest  29141.36030\n",
              "\n",
              "[1338 rows x 7 columns]"
            ]
          },
          "metadata": {
            "tags": []
          },
          "execution_count": 3
        }
      ]
    },
    {
      "cell_type": "markdown",
      "metadata": {
        "id": "4gaJ_5ImHnLp",
        "colab_type": "text"
      },
      "source": [
        "Converting Text form of column sex to digit"
      ]
    },
    {
      "cell_type": "code",
      "metadata": {
        "id": "nchkJNEiPFu4",
        "colab_type": "code",
        "colab": {}
      },
      "source": [
        "encoder = LabelEncoder()\n",
        "x1=encoder.fit_transform(data.iloc[:,1])\n",
        "data['sex']=pd.get_dummies(x1).values"
      ],
      "execution_count": 4,
      "outputs": []
    },
    {
      "cell_type": "code",
      "metadata": {
        "id": "SyaTf1hFO3jK",
        "colab_type": "code",
        "colab": {
          "base_uri": "https://localhost:8080/",
          "height": 402
        },
        "outputId": "a86e0129-fba4-49b1-8033-8a3b831acf5d"
      },
      "source": [
        "data"
      ],
      "execution_count": 5,
      "outputs": [
        {
          "output_type": "execute_result",
          "data": {
            "text/html": [
              "<div>\n",
              "<style scoped>\n",
              "    .dataframe tbody tr th:only-of-type {\n",
              "        vertical-align: middle;\n",
              "    }\n",
              "\n",
              "    .dataframe tbody tr th {\n",
              "        vertical-align: top;\n",
              "    }\n",
              "\n",
              "    .dataframe thead th {\n",
              "        text-align: right;\n",
              "    }\n",
              "</style>\n",
              "<table border=\"1\" class=\"dataframe\">\n",
              "  <thead>\n",
              "    <tr style=\"text-align: right;\">\n",
              "      <th></th>\n",
              "      <th>age</th>\n",
              "      <th>sex</th>\n",
              "      <th>bmi</th>\n",
              "      <th>children</th>\n",
              "      <th>smoker</th>\n",
              "      <th>region</th>\n",
              "      <th>charges</th>\n",
              "    </tr>\n",
              "  </thead>\n",
              "  <tbody>\n",
              "    <tr>\n",
              "      <th>0</th>\n",
              "      <td>19</td>\n",
              "      <td>1</td>\n",
              "      <td>27.900</td>\n",
              "      <td>0</td>\n",
              "      <td>yes</td>\n",
              "      <td>southwest</td>\n",
              "      <td>16884.92400</td>\n",
              "    </tr>\n",
              "    <tr>\n",
              "      <th>1</th>\n",
              "      <td>18</td>\n",
              "      <td>0</td>\n",
              "      <td>33.770</td>\n",
              "      <td>1</td>\n",
              "      <td>no</td>\n",
              "      <td>southeast</td>\n",
              "      <td>1725.55230</td>\n",
              "    </tr>\n",
              "    <tr>\n",
              "      <th>2</th>\n",
              "      <td>28</td>\n",
              "      <td>0</td>\n",
              "      <td>33.000</td>\n",
              "      <td>3</td>\n",
              "      <td>no</td>\n",
              "      <td>southeast</td>\n",
              "      <td>4449.46200</td>\n",
              "    </tr>\n",
              "    <tr>\n",
              "      <th>3</th>\n",
              "      <td>33</td>\n",
              "      <td>0</td>\n",
              "      <td>22.705</td>\n",
              "      <td>0</td>\n",
              "      <td>no</td>\n",
              "      <td>northwest</td>\n",
              "      <td>21984.47061</td>\n",
              "    </tr>\n",
              "    <tr>\n",
              "      <th>4</th>\n",
              "      <td>32</td>\n",
              "      <td>0</td>\n",
              "      <td>28.880</td>\n",
              "      <td>0</td>\n",
              "      <td>no</td>\n",
              "      <td>northwest</td>\n",
              "      <td>3866.85520</td>\n",
              "    </tr>\n",
              "    <tr>\n",
              "      <th>...</th>\n",
              "      <td>...</td>\n",
              "      <td>...</td>\n",
              "      <td>...</td>\n",
              "      <td>...</td>\n",
              "      <td>...</td>\n",
              "      <td>...</td>\n",
              "      <td>...</td>\n",
              "    </tr>\n",
              "    <tr>\n",
              "      <th>1333</th>\n",
              "      <td>50</td>\n",
              "      <td>0</td>\n",
              "      <td>30.970</td>\n",
              "      <td>3</td>\n",
              "      <td>no</td>\n",
              "      <td>northwest</td>\n",
              "      <td>10600.54830</td>\n",
              "    </tr>\n",
              "    <tr>\n",
              "      <th>1334</th>\n",
              "      <td>18</td>\n",
              "      <td>1</td>\n",
              "      <td>31.920</td>\n",
              "      <td>0</td>\n",
              "      <td>no</td>\n",
              "      <td>northeast</td>\n",
              "      <td>2205.98080</td>\n",
              "    </tr>\n",
              "    <tr>\n",
              "      <th>1335</th>\n",
              "      <td>18</td>\n",
              "      <td>1</td>\n",
              "      <td>36.850</td>\n",
              "      <td>0</td>\n",
              "      <td>no</td>\n",
              "      <td>southeast</td>\n",
              "      <td>1629.83350</td>\n",
              "    </tr>\n",
              "    <tr>\n",
              "      <th>1336</th>\n",
              "      <td>21</td>\n",
              "      <td>1</td>\n",
              "      <td>25.800</td>\n",
              "      <td>0</td>\n",
              "      <td>no</td>\n",
              "      <td>southwest</td>\n",
              "      <td>2007.94500</td>\n",
              "    </tr>\n",
              "    <tr>\n",
              "      <th>1337</th>\n",
              "      <td>61</td>\n",
              "      <td>1</td>\n",
              "      <td>29.070</td>\n",
              "      <td>0</td>\n",
              "      <td>yes</td>\n",
              "      <td>northwest</td>\n",
              "      <td>29141.36030</td>\n",
              "    </tr>\n",
              "  </tbody>\n",
              "</table>\n",
              "<p>1338 rows × 7 columns</p>\n",
              "</div>"
            ],
            "text/plain": [
              "      age  sex     bmi  children smoker     region      charges\n",
              "0      19    1  27.900         0    yes  southwest  16884.92400\n",
              "1      18    0  33.770         1     no  southeast   1725.55230\n",
              "2      28    0  33.000         3     no  southeast   4449.46200\n",
              "3      33    0  22.705         0     no  northwest  21984.47061\n",
              "4      32    0  28.880         0     no  northwest   3866.85520\n",
              "...   ...  ...     ...       ...    ...        ...          ...\n",
              "1333   50    0  30.970         3     no  northwest  10600.54830\n",
              "1334   18    1  31.920         0     no  northeast   2205.98080\n",
              "1335   18    1  36.850         0     no  southeast   1629.83350\n",
              "1336   21    1  25.800         0     no  southwest   2007.94500\n",
              "1337   61    1  29.070         0    yes  northwest  29141.36030\n",
              "\n",
              "[1338 rows x 7 columns]"
            ]
          },
          "metadata": {
            "tags": []
          },
          "execution_count": 5
        }
      ]
    },
    {
      "cell_type": "markdown",
      "metadata": {
        "id": "PCp03lBFHw5X",
        "colab_type": "text"
      },
      "source": [
        "Same converting text form of column smoker to digit\n"
      ]
    },
    {
      "cell_type": "code",
      "metadata": {
        "id": "x_i2vbEombPC",
        "colab_type": "code",
        "colab": {}
      },
      "source": [
        "\n",
        "x1=encoder.fit_transform(data.iloc[:,4])\n",
        "data['smoker']=pd.get_dummies(x1).values"
      ],
      "execution_count": 6,
      "outputs": []
    },
    {
      "cell_type": "code",
      "metadata": {
        "id": "1g1ettgMmw86",
        "colab_type": "code",
        "colab": {
          "base_uri": "https://localhost:8080/",
          "height": 402
        },
        "outputId": "10d09ee3-7865-46cd-eb42-bab8b76be15a"
      },
      "source": [
        "data"
      ],
      "execution_count": 7,
      "outputs": [
        {
          "output_type": "execute_result",
          "data": {
            "text/html": [
              "<div>\n",
              "<style scoped>\n",
              "    .dataframe tbody tr th:only-of-type {\n",
              "        vertical-align: middle;\n",
              "    }\n",
              "\n",
              "    .dataframe tbody tr th {\n",
              "        vertical-align: top;\n",
              "    }\n",
              "\n",
              "    .dataframe thead th {\n",
              "        text-align: right;\n",
              "    }\n",
              "</style>\n",
              "<table border=\"1\" class=\"dataframe\">\n",
              "  <thead>\n",
              "    <tr style=\"text-align: right;\">\n",
              "      <th></th>\n",
              "      <th>age</th>\n",
              "      <th>sex</th>\n",
              "      <th>bmi</th>\n",
              "      <th>children</th>\n",
              "      <th>smoker</th>\n",
              "      <th>region</th>\n",
              "      <th>charges</th>\n",
              "    </tr>\n",
              "  </thead>\n",
              "  <tbody>\n",
              "    <tr>\n",
              "      <th>0</th>\n",
              "      <td>19</td>\n",
              "      <td>1</td>\n",
              "      <td>27.900</td>\n",
              "      <td>0</td>\n",
              "      <td>0</td>\n",
              "      <td>southwest</td>\n",
              "      <td>16884.92400</td>\n",
              "    </tr>\n",
              "    <tr>\n",
              "      <th>1</th>\n",
              "      <td>18</td>\n",
              "      <td>0</td>\n",
              "      <td>33.770</td>\n",
              "      <td>1</td>\n",
              "      <td>1</td>\n",
              "      <td>southeast</td>\n",
              "      <td>1725.55230</td>\n",
              "    </tr>\n",
              "    <tr>\n",
              "      <th>2</th>\n",
              "      <td>28</td>\n",
              "      <td>0</td>\n",
              "      <td>33.000</td>\n",
              "      <td>3</td>\n",
              "      <td>1</td>\n",
              "      <td>southeast</td>\n",
              "      <td>4449.46200</td>\n",
              "    </tr>\n",
              "    <tr>\n",
              "      <th>3</th>\n",
              "      <td>33</td>\n",
              "      <td>0</td>\n",
              "      <td>22.705</td>\n",
              "      <td>0</td>\n",
              "      <td>1</td>\n",
              "      <td>northwest</td>\n",
              "      <td>21984.47061</td>\n",
              "    </tr>\n",
              "    <tr>\n",
              "      <th>4</th>\n",
              "      <td>32</td>\n",
              "      <td>0</td>\n",
              "      <td>28.880</td>\n",
              "      <td>0</td>\n",
              "      <td>1</td>\n",
              "      <td>northwest</td>\n",
              "      <td>3866.85520</td>\n",
              "    </tr>\n",
              "    <tr>\n",
              "      <th>...</th>\n",
              "      <td>...</td>\n",
              "      <td>...</td>\n",
              "      <td>...</td>\n",
              "      <td>...</td>\n",
              "      <td>...</td>\n",
              "      <td>...</td>\n",
              "      <td>...</td>\n",
              "    </tr>\n",
              "    <tr>\n",
              "      <th>1333</th>\n",
              "      <td>50</td>\n",
              "      <td>0</td>\n",
              "      <td>30.970</td>\n",
              "      <td>3</td>\n",
              "      <td>1</td>\n",
              "      <td>northwest</td>\n",
              "      <td>10600.54830</td>\n",
              "    </tr>\n",
              "    <tr>\n",
              "      <th>1334</th>\n",
              "      <td>18</td>\n",
              "      <td>1</td>\n",
              "      <td>31.920</td>\n",
              "      <td>0</td>\n",
              "      <td>1</td>\n",
              "      <td>northeast</td>\n",
              "      <td>2205.98080</td>\n",
              "    </tr>\n",
              "    <tr>\n",
              "      <th>1335</th>\n",
              "      <td>18</td>\n",
              "      <td>1</td>\n",
              "      <td>36.850</td>\n",
              "      <td>0</td>\n",
              "      <td>1</td>\n",
              "      <td>southeast</td>\n",
              "      <td>1629.83350</td>\n",
              "    </tr>\n",
              "    <tr>\n",
              "      <th>1336</th>\n",
              "      <td>21</td>\n",
              "      <td>1</td>\n",
              "      <td>25.800</td>\n",
              "      <td>0</td>\n",
              "      <td>1</td>\n",
              "      <td>southwest</td>\n",
              "      <td>2007.94500</td>\n",
              "    </tr>\n",
              "    <tr>\n",
              "      <th>1337</th>\n",
              "      <td>61</td>\n",
              "      <td>1</td>\n",
              "      <td>29.070</td>\n",
              "      <td>0</td>\n",
              "      <td>0</td>\n",
              "      <td>northwest</td>\n",
              "      <td>29141.36030</td>\n",
              "    </tr>\n",
              "  </tbody>\n",
              "</table>\n",
              "<p>1338 rows × 7 columns</p>\n",
              "</div>"
            ],
            "text/plain": [
              "      age  sex     bmi  children  smoker     region      charges\n",
              "0      19    1  27.900         0       0  southwest  16884.92400\n",
              "1      18    0  33.770         1       1  southeast   1725.55230\n",
              "2      28    0  33.000         3       1  southeast   4449.46200\n",
              "3      33    0  22.705         0       1  northwest  21984.47061\n",
              "4      32    0  28.880         0       1  northwest   3866.85520\n",
              "...   ...  ...     ...       ...     ...        ...          ...\n",
              "1333   50    0  30.970         3       1  northwest  10600.54830\n",
              "1334   18    1  31.920         0       1  northeast   2205.98080\n",
              "1335   18    1  36.850         0       1  southeast   1629.83350\n",
              "1336   21    1  25.800         0       1  southwest   2007.94500\n",
              "1337   61    1  29.070         0       0  northwest  29141.36030\n",
              "\n",
              "[1338 rows x 7 columns]"
            ]
          },
          "metadata": {
            "tags": []
          },
          "execution_count": 7
        }
      ]
    },
    {
      "cell_type": "markdown",
      "metadata": {
        "id": "Sf22xrWSH7cw",
        "colab_type": "text"
      },
      "source": [
        "Now creating a map to differentiate between regions \n",
        "This can be done by simply creating dictionary which contains key value pair"
      ]
    },
    {
      "cell_type": "code",
      "metadata": {
        "id": "WcAOsmgGm7gs",
        "colab_type": "code",
        "colab": {}
      },
      "source": [
        "region={'southwest':1,'southeast':2,'northwest':3,'northeast':4}"
      ],
      "execution_count": 8,
      "outputs": []
    },
    {
      "cell_type": "code",
      "metadata": {
        "id": "be3wxcUippJt",
        "colab_type": "code",
        "colab": {}
      },
      "source": [
        "data['region']=data['region'].map(region)"
      ],
      "execution_count": 9,
      "outputs": []
    },
    {
      "cell_type": "markdown",
      "metadata": {
        "id": "EotWECA6IPHI",
        "colab_type": "text"
      },
      "source": [
        "We have already created key value for different region but,now converting that into 0/1 and adding columns as this will in prediction  "
      ]
    },
    {
      "cell_type": "code",
      "metadata": {
        "id": "pQjeiD4bgaOM",
        "colab_type": "code",
        "colab": {}
      },
      "source": [
        "data\n",
        "area=data.pop('region')\n",
        "\n",
        "data['southwest']=((area==1)*1.0)\n",
        "data['southeast']=((area==2)*1.0)\n",
        "data['northwest']=((area==3)*1.0)\n",
        "data['northeast']=((area==4)*1.0)"
      ],
      "execution_count": 10,
      "outputs": []
    },
    {
      "cell_type": "code",
      "metadata": {
        "id": "3FYywL6xnF3-",
        "colab_type": "code",
        "colab": {}
      },
      "source": [
        "col_name=\"charges\"\n",
        "col=data.pop('charges')\n",
        "data.insert(9,col_name,col)"
      ],
      "execution_count": 11,
      "outputs": []
    },
    {
      "cell_type": "code",
      "metadata": {
        "id": "45Em30W-oSqt",
        "colab_type": "code",
        "colab": {
          "base_uri": "https://localhost:8080/",
          "height": 402
        },
        "outputId": "70ef9ed4-3bbb-40a1-b958-fbff6fb42dc0"
      },
      "source": [
        "data"
      ],
      "execution_count": 12,
      "outputs": [
        {
          "output_type": "execute_result",
          "data": {
            "text/html": [
              "<div>\n",
              "<style scoped>\n",
              "    .dataframe tbody tr th:only-of-type {\n",
              "        vertical-align: middle;\n",
              "    }\n",
              "\n",
              "    .dataframe tbody tr th {\n",
              "        vertical-align: top;\n",
              "    }\n",
              "\n",
              "    .dataframe thead th {\n",
              "        text-align: right;\n",
              "    }\n",
              "</style>\n",
              "<table border=\"1\" class=\"dataframe\">\n",
              "  <thead>\n",
              "    <tr style=\"text-align: right;\">\n",
              "      <th></th>\n",
              "      <th>age</th>\n",
              "      <th>sex</th>\n",
              "      <th>bmi</th>\n",
              "      <th>children</th>\n",
              "      <th>smoker</th>\n",
              "      <th>southwest</th>\n",
              "      <th>southeast</th>\n",
              "      <th>northwest</th>\n",
              "      <th>northeast</th>\n",
              "      <th>charges</th>\n",
              "    </tr>\n",
              "  </thead>\n",
              "  <tbody>\n",
              "    <tr>\n",
              "      <th>0</th>\n",
              "      <td>19</td>\n",
              "      <td>1</td>\n",
              "      <td>27.900</td>\n",
              "      <td>0</td>\n",
              "      <td>0</td>\n",
              "      <td>1.0</td>\n",
              "      <td>0.0</td>\n",
              "      <td>0.0</td>\n",
              "      <td>0.0</td>\n",
              "      <td>16884.92400</td>\n",
              "    </tr>\n",
              "    <tr>\n",
              "      <th>1</th>\n",
              "      <td>18</td>\n",
              "      <td>0</td>\n",
              "      <td>33.770</td>\n",
              "      <td>1</td>\n",
              "      <td>1</td>\n",
              "      <td>0.0</td>\n",
              "      <td>1.0</td>\n",
              "      <td>0.0</td>\n",
              "      <td>0.0</td>\n",
              "      <td>1725.55230</td>\n",
              "    </tr>\n",
              "    <tr>\n",
              "      <th>2</th>\n",
              "      <td>28</td>\n",
              "      <td>0</td>\n",
              "      <td>33.000</td>\n",
              "      <td>3</td>\n",
              "      <td>1</td>\n",
              "      <td>0.0</td>\n",
              "      <td>1.0</td>\n",
              "      <td>0.0</td>\n",
              "      <td>0.0</td>\n",
              "      <td>4449.46200</td>\n",
              "    </tr>\n",
              "    <tr>\n",
              "      <th>3</th>\n",
              "      <td>33</td>\n",
              "      <td>0</td>\n",
              "      <td>22.705</td>\n",
              "      <td>0</td>\n",
              "      <td>1</td>\n",
              "      <td>0.0</td>\n",
              "      <td>0.0</td>\n",
              "      <td>1.0</td>\n",
              "      <td>0.0</td>\n",
              "      <td>21984.47061</td>\n",
              "    </tr>\n",
              "    <tr>\n",
              "      <th>4</th>\n",
              "      <td>32</td>\n",
              "      <td>0</td>\n",
              "      <td>28.880</td>\n",
              "      <td>0</td>\n",
              "      <td>1</td>\n",
              "      <td>0.0</td>\n",
              "      <td>0.0</td>\n",
              "      <td>1.0</td>\n",
              "      <td>0.0</td>\n",
              "      <td>3866.85520</td>\n",
              "    </tr>\n",
              "    <tr>\n",
              "      <th>...</th>\n",
              "      <td>...</td>\n",
              "      <td>...</td>\n",
              "      <td>...</td>\n",
              "      <td>...</td>\n",
              "      <td>...</td>\n",
              "      <td>...</td>\n",
              "      <td>...</td>\n",
              "      <td>...</td>\n",
              "      <td>...</td>\n",
              "      <td>...</td>\n",
              "    </tr>\n",
              "    <tr>\n",
              "      <th>1333</th>\n",
              "      <td>50</td>\n",
              "      <td>0</td>\n",
              "      <td>30.970</td>\n",
              "      <td>3</td>\n",
              "      <td>1</td>\n",
              "      <td>0.0</td>\n",
              "      <td>0.0</td>\n",
              "      <td>1.0</td>\n",
              "      <td>0.0</td>\n",
              "      <td>10600.54830</td>\n",
              "    </tr>\n",
              "    <tr>\n",
              "      <th>1334</th>\n",
              "      <td>18</td>\n",
              "      <td>1</td>\n",
              "      <td>31.920</td>\n",
              "      <td>0</td>\n",
              "      <td>1</td>\n",
              "      <td>0.0</td>\n",
              "      <td>0.0</td>\n",
              "      <td>0.0</td>\n",
              "      <td>1.0</td>\n",
              "      <td>2205.98080</td>\n",
              "    </tr>\n",
              "    <tr>\n",
              "      <th>1335</th>\n",
              "      <td>18</td>\n",
              "      <td>1</td>\n",
              "      <td>36.850</td>\n",
              "      <td>0</td>\n",
              "      <td>1</td>\n",
              "      <td>0.0</td>\n",
              "      <td>1.0</td>\n",
              "      <td>0.0</td>\n",
              "      <td>0.0</td>\n",
              "      <td>1629.83350</td>\n",
              "    </tr>\n",
              "    <tr>\n",
              "      <th>1336</th>\n",
              "      <td>21</td>\n",
              "      <td>1</td>\n",
              "      <td>25.800</td>\n",
              "      <td>0</td>\n",
              "      <td>1</td>\n",
              "      <td>1.0</td>\n",
              "      <td>0.0</td>\n",
              "      <td>0.0</td>\n",
              "      <td>0.0</td>\n",
              "      <td>2007.94500</td>\n",
              "    </tr>\n",
              "    <tr>\n",
              "      <th>1337</th>\n",
              "      <td>61</td>\n",
              "      <td>1</td>\n",
              "      <td>29.070</td>\n",
              "      <td>0</td>\n",
              "      <td>0</td>\n",
              "      <td>0.0</td>\n",
              "      <td>0.0</td>\n",
              "      <td>1.0</td>\n",
              "      <td>0.0</td>\n",
              "      <td>29141.36030</td>\n",
              "    </tr>\n",
              "  </tbody>\n",
              "</table>\n",
              "<p>1338 rows × 10 columns</p>\n",
              "</div>"
            ],
            "text/plain": [
              "      age  sex     bmi  children  ...  southeast  northwest  northeast      charges\n",
              "0      19    1  27.900         0  ...        0.0        0.0        0.0  16884.92400\n",
              "1      18    0  33.770         1  ...        1.0        0.0        0.0   1725.55230\n",
              "2      28    0  33.000         3  ...        1.0        0.0        0.0   4449.46200\n",
              "3      33    0  22.705         0  ...        0.0        1.0        0.0  21984.47061\n",
              "4      32    0  28.880         0  ...        0.0        1.0        0.0   3866.85520\n",
              "...   ...  ...     ...       ...  ...        ...        ...        ...          ...\n",
              "1333   50    0  30.970         3  ...        0.0        1.0        0.0  10600.54830\n",
              "1334   18    1  31.920         0  ...        0.0        0.0        1.0   2205.98080\n",
              "1335   18    1  36.850         0  ...        1.0        0.0        0.0   1629.83350\n",
              "1336   21    1  25.800         0  ...        0.0        0.0        0.0   2007.94500\n",
              "1337   61    1  29.070         0  ...        0.0        1.0        0.0  29141.36030\n",
              "\n",
              "[1338 rows x 10 columns]"
            ]
          },
          "metadata": {
            "tags": []
          },
          "execution_count": 12
        }
      ]
    },
    {
      "cell_type": "code",
      "metadata": {
        "id": "NZegsWP_p6JG",
        "colab_type": "code",
        "colab": {
          "base_uri": "https://localhost:8080/",
          "height": 474
        },
        "outputId": "b5ffc5a5-fb03-4285-db1c-c72d472bc50a"
      },
      "source": [
        "x=data.iloc[:,0:9]\n",
        "y=data.iloc[:,9]\n",
        "print(x)\n",
        "print(y)"
      ],
      "execution_count": 13,
      "outputs": [
        {
          "output_type": "stream",
          "text": [
            "      age  sex     bmi  children  ...  southwest  southeast  northwest  northeast\n",
            "0      19    1  27.900         0  ...        1.0        0.0        0.0        0.0\n",
            "1      18    0  33.770         1  ...        0.0        1.0        0.0        0.0\n",
            "2      28    0  33.000         3  ...        0.0        1.0        0.0        0.0\n",
            "3      33    0  22.705         0  ...        0.0        0.0        1.0        0.0\n",
            "4      32    0  28.880         0  ...        0.0        0.0        1.0        0.0\n",
            "...   ...  ...     ...       ...  ...        ...        ...        ...        ...\n",
            "1333   50    0  30.970         3  ...        0.0        0.0        1.0        0.0\n",
            "1334   18    1  31.920         0  ...        0.0        0.0        0.0        1.0\n",
            "1335   18    1  36.850         0  ...        0.0        1.0        0.0        0.0\n",
            "1336   21    1  25.800         0  ...        1.0        0.0        0.0        0.0\n",
            "1337   61    1  29.070         0  ...        0.0        0.0        1.0        0.0\n",
            "\n",
            "[1338 rows x 9 columns]\n",
            "0       16884.92400\n",
            "1        1725.55230\n",
            "2        4449.46200\n",
            "3       21984.47061\n",
            "4        3866.85520\n",
            "           ...     \n",
            "1333    10600.54830\n",
            "1334     2205.98080\n",
            "1335     1629.83350\n",
            "1336     2007.94500\n",
            "1337    29141.36030\n",
            "Name: charges, Length: 1338, dtype: float64\n"
          ],
          "name": "stdout"
        }
      ]
    },
    {
      "cell_type": "code",
      "metadata": {
        "id": "FQbkgHQjqouG",
        "colab_type": "code",
        "colab": {}
      },
      "source": [
        "from sklearn.model_selection import train_test_split"
      ],
      "execution_count": 14,
      "outputs": []
    },
    {
      "cell_type": "markdown",
      "metadata": {
        "id": "SgiuMUPpI2sm",
        "colab_type": "text"
      },
      "source": [
        "As our dataset have some high range values so scaling into lower terms"
      ]
    },
    {
      "cell_type": "code",
      "metadata": {
        "id": "ZZKDsiXBxIBE",
        "colab_type": "code",
        "colab": {}
      },
      "source": [
        "from sklearn.preprocessing import MinMaxScaler\n",
        "\n",
        "scaller = MinMaxScaler()\n",
        "scaller_target = MinMaxScaler()"
      ],
      "execution_count": 15,
      "outputs": []
    },
    {
      "cell_type": "code",
      "metadata": {
        "id": "aeDx3kqGxaff",
        "colab_type": "code",
        "colab": {}
      },
      "source": [
        "target=data['charges']\n"
      ],
      "execution_count": 16,
      "outputs": []
    },
    {
      "cell_type": "code",
      "metadata": {
        "id": "8RLT5p8v-wPf",
        "colab_type": "code",
        "colab": {}
      },
      "source": [
        "data = data.drop(columns = [\"charges\"])"
      ],
      "execution_count": 17,
      "outputs": []
    },
    {
      "cell_type": "code",
      "metadata": {
        "id": "NyR17CQSxjU0",
        "colab_type": "code",
        "colab": {
          "base_uri": "https://localhost:8080/",
          "height": 228
        },
        "outputId": "18afcd6a-1465-4269-9ae4-93bf2bd653a3"
      },
      "source": [
        "target"
      ],
      "execution_count": 18,
      "outputs": [
        {
          "output_type": "execute_result",
          "data": {
            "text/plain": [
              "0       16884.92400\n",
              "1        1725.55230\n",
              "2        4449.46200\n",
              "3       21984.47061\n",
              "4        3866.85520\n",
              "           ...     \n",
              "1333    10600.54830\n",
              "1334     2205.98080\n",
              "1335     1629.83350\n",
              "1336     2007.94500\n",
              "1337    29141.36030\n",
              "Name: charges, Length: 1338, dtype: float64"
            ]
          },
          "metadata": {
            "tags": []
          },
          "execution_count": 18
        }
      ]
    },
    {
      "cell_type": "code",
      "metadata": {
        "id": "T3D9jU9z-yYf",
        "colab_type": "code",
        "colab": {}
      },
      "source": [
        "data=np.array(data.values)\n",
        "target=np.array(target.values)"
      ],
      "execution_count": 19,
      "outputs": []
    },
    {
      "cell_type": "code",
      "metadata": {
        "id": "q5vXQrMwxNBs",
        "colab_type": "code",
        "colab": {}
      },
      "source": [
        "processed_data = scaller.fit_transform(data)\n",
        "# processed_data2=scaller.transform(data)\n",
        "processed_target=scaller_target.fit_transform(target.reshape(-1,1))"
      ],
      "execution_count": 20,
      "outputs": []
    },
    {
      "cell_type": "code",
      "metadata": {
        "id": "Aa1bPhg4CoOK",
        "colab_type": "code",
        "colab": {
          "base_uri": "https://localhost:8080/",
          "height": 34
        },
        "outputId": "32105b52-6719-4a22-d777-9b0e48e8491d"
      },
      "source": [
        "data.shape"
      ],
      "execution_count": 21,
      "outputs": [
        {
          "output_type": "execute_result",
          "data": {
            "text/plain": [
              "(1338, 9)"
            ]
          },
          "metadata": {
            "tags": []
          },
          "execution_count": 21
        }
      ]
    },
    {
      "cell_type": "code",
      "metadata": {
        "id": "R6vLiO94AbLJ",
        "colab_type": "code",
        "colab": {
          "base_uri": "https://localhost:8080/",
          "height": 34
        },
        "outputId": "a57cbf21-3cd7-42dd-ad59-ea16519700f8"
      },
      "source": [
        "processed_target.shape"
      ],
      "execution_count": 22,
      "outputs": [
        {
          "output_type": "execute_result",
          "data": {
            "text/plain": [
              "(1338, 1)"
            ]
          },
          "metadata": {
            "tags": []
          },
          "execution_count": 22
        }
      ]
    },
    {
      "cell_type": "code",
      "metadata": {
        "id": "8VA52ahcAFJN",
        "colab_type": "code",
        "colab": {
          "base_uri": "https://localhost:8080/",
          "height": 34
        },
        "outputId": "3ba38d28-2cfa-46bd-c7b6-581aaf3ae19b"
      },
      "source": [
        "processed_data.shape\n"
      ],
      "execution_count": 24,
      "outputs": [
        {
          "output_type": "execute_result",
          "data": {
            "text/plain": [
              "(1338, 9)"
            ]
          },
          "metadata": {
            "tags": []
          },
          "execution_count": 24
        }
      ]
    },
    {
      "cell_type": "code",
      "metadata": {
        "id": "r-F-uBKCB9pR",
        "colab_type": "code",
        "colab": {}
      },
      "source": [
        "\n",
        "x_train,x_test,y_train,y_test=train_test_split(processed_data,processed_target,test_size=0.2,random_state=0)"
      ],
      "execution_count": 25,
      "outputs": []
    },
    {
      "cell_type": "code",
      "metadata": {
        "id": "zIiYa-iKEF7t",
        "colab_type": "code",
        "colab": {
          "base_uri": "https://localhost:8080/",
          "height": 34
        },
        "outputId": "7ff09735-405e-48a1-f135-5b3d90368031"
      },
      "source": [
        "y_test.shape"
      ],
      "execution_count": 26,
      "outputs": [
        {
          "output_type": "execute_result",
          "data": {
            "text/plain": [
              "(268, 1)"
            ]
          },
          "metadata": {
            "tags": []
          },
          "execution_count": 26
        }
      ]
    },
    {
      "cell_type": "code",
      "metadata": {
        "id": "sjO3wETssFt0",
        "colab_type": "code",
        "colab": {}
      },
      "source": [
        "from keras.models import Sequential\n",
        "from keras.layers import Dense\n",
        "from keras.optimizers import SGD,Adam\n",
        "\n",
        "model =Sequential()"
      ],
      "execution_count": 27,
      "outputs": []
    },
    {
      "cell_type": "markdown",
      "metadata": {
        "id": "D8wA8Dp1JXQq",
        "colab_type": "text"
      },
      "source": [
        "Now creating model"
      ]
    },
    {
      "cell_type": "code",
      "metadata": {
        "id": "lc3IsWGMyjNK",
        "colab_type": "code",
        "colab": {
          "base_uri": "https://localhost:8080/",
          "height": 334
        },
        "outputId": "afe300da-7002-494c-b460-1146d88a3dca"
      },
      "source": [
        "model.add(Dense(100,input_shape=(9,),activation='relu'))\n",
        "model.add(Dense(200,activation='relu'))\n",
        "model.add(Dense(200,activation='relu'))\n",
        "model.add(Dense(100,activation='relu'))\n",
        "model.add(Dense(1))\n",
        "\n",
        "model.compile(Adam(lr=0.001),loss='mse',metrics=['mse','mae'])\n",
        "\n",
        "model.summary()"
      ],
      "execution_count": 28,
      "outputs": [
        {
          "output_type": "stream",
          "text": [
            "Model: \"sequential\"\n",
            "_________________________________________________________________\n",
            "Layer (type)                 Output Shape              Param #   \n",
            "=================================================================\n",
            "dense (Dense)                (None, 100)               1000      \n",
            "_________________________________________________________________\n",
            "dense_1 (Dense)              (None, 200)               20200     \n",
            "_________________________________________________________________\n",
            "dense_2 (Dense)              (None, 200)               40200     \n",
            "_________________________________________________________________\n",
            "dense_3 (Dense)              (None, 100)               20100     \n",
            "_________________________________________________________________\n",
            "dense_4 (Dense)              (None, 1)                 101       \n",
            "=================================================================\n",
            "Total params: 81,601\n",
            "Trainable params: 81,601\n",
            "Non-trainable params: 0\n",
            "_________________________________________________________________\n"
          ],
          "name": "stdout"
        }
      ]
    },
    {
      "cell_type": "code",
      "metadata": {
        "id": "cSL8rxnwzh3T",
        "colab_type": "code",
        "colab": {
          "base_uri": "https://localhost:8080/",
          "height": 1000
        },
        "outputId": "37f42ca2-0abe-45f8-a639-17e4a3c03e7a"
      },
      "source": [
        "model.fit(x_train,y_train,epochs=200)\n",
        "y_pred=model.predict(x_test)"
      ],
      "execution_count": 50,
      "outputs": [
        {
          "output_type": "stream",
          "text": [
            "Epoch 1/200\n",
            "34/34 [==============================] - 0s 2ms/step - loss: 7.7757e-04 - mse: 7.7757e-04 - mae: 0.0147\n",
            "Epoch 2/200\n",
            "34/34 [==============================] - 0s 2ms/step - loss: 8.2251e-04 - mse: 8.2251e-04 - mae: 0.0138\n",
            "Epoch 3/200\n",
            "34/34 [==============================] - 0s 2ms/step - loss: 0.0012 - mse: 0.0012 - mae: 0.0167\n",
            "Epoch 4/200\n",
            "34/34 [==============================] - 0s 2ms/step - loss: 9.3221e-04 - mse: 9.3221e-04 - mae: 0.0153\n",
            "Epoch 5/200\n",
            "34/34 [==============================] - 0s 2ms/step - loss: 9.4910e-04 - mse: 9.4910e-04 - mae: 0.0149\n",
            "Epoch 6/200\n",
            "34/34 [==============================] - 0s 2ms/step - loss: 0.0012 - mse: 0.0012 - mae: 0.0162\n",
            "Epoch 7/200\n",
            "34/34 [==============================] - 0s 2ms/step - loss: 8.8843e-04 - mse: 8.8843e-04 - mae: 0.0133\n",
            "Epoch 8/200\n",
            "34/34 [==============================] - 0s 2ms/step - loss: 8.8674e-04 - mse: 8.8674e-04 - mae: 0.0142\n",
            "Epoch 9/200\n",
            "34/34 [==============================] - 0s 2ms/step - loss: 0.0010 - mse: 0.0010 - mae: 0.0154\n",
            "Epoch 10/200\n",
            "34/34 [==============================] - 0s 2ms/step - loss: 0.0013 - mse: 0.0013 - mae: 0.0199\n",
            "Epoch 11/200\n",
            "34/34 [==============================] - 0s 2ms/step - loss: 9.9456e-04 - mse: 9.9456e-04 - mae: 0.0166\n",
            "Epoch 12/200\n",
            "34/34 [==============================] - 0s 2ms/step - loss: 6.4164e-04 - mse: 6.4164e-04 - mae: 0.0135\n",
            "Epoch 13/200\n",
            "34/34 [==============================] - 0s 2ms/step - loss: 6.4398e-04 - mse: 6.4398e-04 - mae: 0.0122\n",
            "Epoch 14/200\n",
            "34/34 [==============================] - 0s 2ms/step - loss: 6.4848e-04 - mse: 6.4848e-04 - mae: 0.0113\n",
            "Epoch 15/200\n",
            "34/34 [==============================] - 0s 2ms/step - loss: 8.9078e-04 - mse: 8.9078e-04 - mae: 0.0137\n",
            "Epoch 16/200\n",
            "34/34 [==============================] - 0s 2ms/step - loss: 8.0817e-04 - mse: 8.0817e-04 - mae: 0.0125\n",
            "Epoch 17/200\n",
            "34/34 [==============================] - 0s 2ms/step - loss: 6.3738e-04 - mse: 6.3738e-04 - mae: 0.0126\n",
            "Epoch 18/200\n",
            "34/34 [==============================] - 0s 2ms/step - loss: 5.9379e-04 - mse: 5.9379e-04 - mae: 0.0110\n",
            "Epoch 19/200\n",
            "34/34 [==============================] - 0s 2ms/step - loss: 6.4190e-04 - mse: 6.4190e-04 - mae: 0.0113\n",
            "Epoch 20/200\n",
            "34/34 [==============================] - 0s 2ms/step - loss: 8.1747e-04 - mse: 8.1747e-04 - mae: 0.0138\n",
            "Epoch 21/200\n",
            "34/34 [==============================] - 0s 2ms/step - loss: 7.0757e-04 - mse: 7.0757e-04 - mae: 0.0128\n",
            "Epoch 22/200\n",
            "34/34 [==============================] - 0s 2ms/step - loss: 9.3961e-04 - mse: 9.3961e-04 - mae: 0.0144\n",
            "Epoch 23/200\n",
            "34/34 [==============================] - 0s 2ms/step - loss: 9.1717e-04 - mse: 9.1717e-04 - mae: 0.0139\n",
            "Epoch 24/200\n",
            "34/34 [==============================] - 0s 2ms/step - loss: 9.8925e-04 - mse: 9.8925e-04 - mae: 0.0148\n",
            "Epoch 25/200\n",
            "34/34 [==============================] - 0s 2ms/step - loss: 0.0010 - mse: 0.0010 - mae: 0.0161\n",
            "Epoch 26/200\n",
            "34/34 [==============================] - 0s 2ms/step - loss: 9.6757e-04 - mse: 9.6757e-04 - mae: 0.0169\n",
            "Epoch 27/200\n",
            "34/34 [==============================] - 0s 2ms/step - loss: 8.2440e-04 - mse: 8.2440e-04 - mae: 0.0132\n",
            "Epoch 28/200\n",
            "34/34 [==============================] - 0s 2ms/step - loss: 7.6201e-04 - mse: 7.6201e-04 - mae: 0.0130\n",
            "Epoch 29/200\n",
            "34/34 [==============================] - 0s 2ms/step - loss: 6.8967e-04 - mse: 6.8967e-04 - mae: 0.0123\n",
            "Epoch 30/200\n",
            "34/34 [==============================] - 0s 2ms/step - loss: 5.8834e-04 - mse: 5.8834e-04 - mae: 0.0116\n",
            "Epoch 31/200\n",
            "34/34 [==============================] - 0s 2ms/step - loss: 9.2991e-04 - mse: 9.2991e-04 - mae: 0.0145\n",
            "Epoch 32/200\n",
            "34/34 [==============================] - 0s 3ms/step - loss: 5.5121e-04 - mse: 5.5121e-04 - mae: 0.0108\n",
            "Epoch 33/200\n",
            "34/34 [==============================] - 0s 2ms/step - loss: 5.6361e-04 - mse: 5.6361e-04 - mae: 0.0102\n",
            "Epoch 34/200\n",
            "34/34 [==============================] - 0s 2ms/step - loss: 7.6280e-04 - mse: 7.6280e-04 - mae: 0.0124\n",
            "Epoch 35/200\n",
            "34/34 [==============================] - 0s 2ms/step - loss: 0.0012 - mse: 0.0012 - mae: 0.0163\n",
            "Epoch 36/200\n",
            "34/34 [==============================] - 0s 2ms/step - loss: 9.3822e-04 - mse: 9.3822e-04 - mae: 0.0157\n",
            "Epoch 37/200\n",
            "34/34 [==============================] - 0s 2ms/step - loss: 8.8109e-04 - mse: 8.8109e-04 - mae: 0.0150\n",
            "Epoch 38/200\n",
            "34/34 [==============================] - 0s 2ms/step - loss: 8.0118e-04 - mse: 8.0118e-04 - mae: 0.0138\n",
            "Epoch 39/200\n",
            "34/34 [==============================] - 0s 2ms/step - loss: 8.5635e-04 - mse: 8.5635e-04 - mae: 0.0132\n",
            "Epoch 40/200\n",
            "34/34 [==============================] - 0s 2ms/step - loss: 9.1625e-04 - mse: 9.1625e-04 - mae: 0.0149\n",
            "Epoch 41/200\n",
            "34/34 [==============================] - 0s 2ms/step - loss: 7.9456e-04 - mse: 7.9456e-04 - mae: 0.0128\n",
            "Epoch 42/200\n",
            "34/34 [==============================] - 0s 2ms/step - loss: 8.5333e-04 - mse: 8.5333e-04 - mae: 0.0136\n",
            "Epoch 43/200\n",
            "34/34 [==============================] - 0s 2ms/step - loss: 0.0011 - mse: 0.0011 - mae: 0.0166\n",
            "Epoch 44/200\n",
            "34/34 [==============================] - 0s 2ms/step - loss: 0.0011 - mse: 0.0011 - mae: 0.0166\n",
            "Epoch 45/200\n",
            "34/34 [==============================] - 0s 2ms/step - loss: 8.6178e-04 - mse: 8.6178e-04 - mae: 0.0144\n",
            "Epoch 46/200\n",
            "34/34 [==============================] - 0s 2ms/step - loss: 8.5916e-04 - mse: 8.5916e-04 - mae: 0.0131\n",
            "Epoch 47/200\n",
            "34/34 [==============================] - 0s 2ms/step - loss: 7.7692e-04 - mse: 7.7692e-04 - mae: 0.0134\n",
            "Epoch 48/200\n",
            "34/34 [==============================] - 0s 3ms/step - loss: 7.6438e-04 - mse: 7.6438e-04 - mae: 0.0135\n",
            "Epoch 49/200\n",
            "34/34 [==============================] - 0s 2ms/step - loss: 8.2976e-04 - mse: 8.2976e-04 - mae: 0.0133\n",
            "Epoch 50/200\n",
            "34/34 [==============================] - 0s 2ms/step - loss: 8.0709e-04 - mse: 8.0709e-04 - mae: 0.0133\n",
            "Epoch 51/200\n",
            "34/34 [==============================] - 0s 2ms/step - loss: 6.0822e-04 - mse: 6.0822e-04 - mae: 0.0118\n",
            "Epoch 52/200\n",
            "34/34 [==============================] - 0s 2ms/step - loss: 6.7152e-04 - mse: 6.7152e-04 - mae: 0.0118\n",
            "Epoch 53/200\n",
            "34/34 [==============================] - 0s 2ms/step - loss: 5.7006e-04 - mse: 5.7006e-04 - mae: 0.0113\n",
            "Epoch 54/200\n",
            "34/34 [==============================] - 0s 2ms/step - loss: 6.3494e-04 - mse: 6.3494e-04 - mae: 0.0109\n",
            "Epoch 55/200\n",
            "34/34 [==============================] - 0s 2ms/step - loss: 7.7175e-04 - mse: 7.7175e-04 - mae: 0.0116\n",
            "Epoch 56/200\n",
            "34/34 [==============================] - 0s 2ms/step - loss: 6.5099e-04 - mse: 6.5099e-04 - mae: 0.0122\n",
            "Epoch 57/200\n",
            "34/34 [==============================] - 0s 2ms/step - loss: 7.8780e-04 - mse: 7.8780e-04 - mae: 0.0132\n",
            "Epoch 58/200\n",
            "34/34 [==============================] - 0s 2ms/step - loss: 9.1803e-04 - mse: 9.1803e-04 - mae: 0.0141\n",
            "Epoch 59/200\n",
            "34/34 [==============================] - 0s 2ms/step - loss: 0.0013 - mse: 0.0013 - mae: 0.0179\n",
            "Epoch 60/200\n",
            "34/34 [==============================] - 0s 2ms/step - loss: 0.0013 - mse: 0.0013 - mae: 0.0207\n",
            "Epoch 61/200\n",
            "34/34 [==============================] - 0s 2ms/step - loss: 0.0017 - mse: 0.0017 - mae: 0.0240\n",
            "Epoch 62/200\n",
            "34/34 [==============================] - 0s 2ms/step - loss: 0.0015 - mse: 0.0015 - mae: 0.0212\n",
            "Epoch 63/200\n",
            "34/34 [==============================] - 0s 2ms/step - loss: 8.7256e-04 - mse: 8.7256e-04 - mae: 0.0155\n",
            "Epoch 64/200\n",
            "34/34 [==============================] - 0s 2ms/step - loss: 7.4542e-04 - mse: 7.4542e-04 - mae: 0.0134\n",
            "Epoch 65/200\n",
            "34/34 [==============================] - 0s 2ms/step - loss: 6.4929e-04 - mse: 6.4929e-04 - mae: 0.0124\n",
            "Epoch 66/200\n",
            "34/34 [==============================] - 0s 2ms/step - loss: 8.5133e-04 - mse: 8.5133e-04 - mae: 0.0135\n",
            "Epoch 67/200\n",
            "34/34 [==============================] - 0s 2ms/step - loss: 7.3113e-04 - mse: 7.3113e-04 - mae: 0.0120\n",
            "Epoch 68/200\n",
            "34/34 [==============================] - 0s 3ms/step - loss: 6.9115e-04 - mse: 6.9115e-04 - mae: 0.0128\n",
            "Epoch 69/200\n",
            "34/34 [==============================] - 0s 2ms/step - loss: 5.6635e-04 - mse: 5.6635e-04 - mae: 0.0109\n",
            "Epoch 70/200\n",
            "34/34 [==============================] - 0s 2ms/step - loss: 7.7692e-04 - mse: 7.7692e-04 - mae: 0.0127\n",
            "Epoch 71/200\n",
            "34/34 [==============================] - 0s 3ms/step - loss: 7.7985e-04 - mse: 7.7985e-04 - mae: 0.0131\n",
            "Epoch 72/200\n",
            "34/34 [==============================] - 0s 2ms/step - loss: 5.7492e-04 - mse: 5.7492e-04 - mae: 0.0113\n",
            "Epoch 73/200\n",
            "34/34 [==============================] - 0s 2ms/step - loss: 5.0503e-04 - mse: 5.0503e-04 - mae: 0.0097\n",
            "Epoch 74/200\n",
            "34/34 [==============================] - 0s 2ms/step - loss: 5.4937e-04 - mse: 5.4937e-04 - mae: 0.0106\n",
            "Epoch 75/200\n",
            "34/34 [==============================] - 0s 2ms/step - loss: 5.2876e-04 - mse: 5.2876e-04 - mae: 0.0112\n",
            "Epoch 76/200\n",
            "34/34 [==============================] - 0s 2ms/step - loss: 5.2216e-04 - mse: 5.2216e-04 - mae: 0.0106\n",
            "Epoch 77/200\n",
            "34/34 [==============================] - 0s 2ms/step - loss: 8.1606e-04 - mse: 8.1606e-04 - mae: 0.0116\n",
            "Epoch 78/200\n",
            "34/34 [==============================] - 0s 2ms/step - loss: 9.5050e-04 - mse: 9.5050e-04 - mae: 0.0139\n",
            "Epoch 79/200\n",
            "34/34 [==============================] - 0s 2ms/step - loss: 7.3509e-04 - mse: 7.3509e-04 - mae: 0.0133\n",
            "Epoch 80/200\n",
            "34/34 [==============================] - 0s 2ms/step - loss: 7.1560e-04 - mse: 7.1560e-04 - mae: 0.0118\n",
            "Epoch 81/200\n",
            "34/34 [==============================] - 0s 2ms/step - loss: 6.7275e-04 - mse: 6.7275e-04 - mae: 0.0121\n",
            "Epoch 82/200\n",
            "34/34 [==============================] - 0s 2ms/step - loss: 7.5915e-04 - mse: 7.5915e-04 - mae: 0.0125\n",
            "Epoch 83/200\n",
            "34/34 [==============================] - 0s 3ms/step - loss: 9.6472e-04 - mse: 9.6472e-04 - mae: 0.0138\n",
            "Epoch 84/200\n",
            "34/34 [==============================] - 0s 2ms/step - loss: 8.1037e-04 - mse: 8.1037e-04 - mae: 0.0134\n",
            "Epoch 85/200\n",
            "34/34 [==============================] - 0s 2ms/step - loss: 0.0010 - mse: 0.0010 - mae: 0.0148    \n",
            "Epoch 86/200\n",
            "34/34 [==============================] - 0s 2ms/step - loss: 0.0011 - mse: 0.0011 - mae: 0.0166\n",
            "Epoch 87/200\n",
            "34/34 [==============================] - 0s 2ms/step - loss: 9.1930e-04 - mse: 9.1930e-04 - mae: 0.0154\n",
            "Epoch 88/200\n",
            "34/34 [==============================] - 0s 2ms/step - loss: 6.9289e-04 - mse: 6.9289e-04 - mae: 0.0132\n",
            "Epoch 89/200\n",
            "34/34 [==============================] - 0s 2ms/step - loss: 6.6077e-04 - mse: 6.6077e-04 - mae: 0.0133\n",
            "Epoch 90/200\n",
            "34/34 [==============================] - 0s 2ms/step - loss: 6.3501e-04 - mse: 6.3501e-04 - mae: 0.0117\n",
            "Epoch 91/200\n",
            "34/34 [==============================] - 0s 2ms/step - loss: 6.6973e-04 - mse: 6.6973e-04 - mae: 0.0115\n",
            "Epoch 92/200\n",
            "34/34 [==============================] - 0s 2ms/step - loss: 7.5275e-04 - mse: 7.5275e-04 - mae: 0.0125\n",
            "Epoch 93/200\n",
            "34/34 [==============================] - 0s 2ms/step - loss: 7.5825e-04 - mse: 7.5825e-04 - mae: 0.0128\n",
            "Epoch 94/200\n",
            "34/34 [==============================] - 0s 2ms/step - loss: 6.4987e-04 - mse: 6.4987e-04 - mae: 0.0121\n",
            "Epoch 95/200\n",
            "34/34 [==============================] - 0s 2ms/step - loss: 7.3996e-04 - mse: 7.3996e-04 - mae: 0.0118\n",
            "Epoch 96/200\n",
            "34/34 [==============================] - 0s 2ms/step - loss: 5.6794e-04 - mse: 5.6794e-04 - mae: 0.0114\n",
            "Epoch 97/200\n",
            "34/34 [==============================] - 0s 3ms/step - loss: 6.0357e-04 - mse: 6.0357e-04 - mae: 0.0117\n",
            "Epoch 98/200\n",
            "34/34 [==============================] - 0s 3ms/step - loss: 4.8262e-04 - mse: 4.8262e-04 - mae: 0.0101\n",
            "Epoch 99/200\n",
            "34/34 [==============================] - 0s 2ms/step - loss: 6.1544e-04 - mse: 6.1544e-04 - mae: 0.0112\n",
            "Epoch 100/200\n",
            "34/34 [==============================] - 0s 2ms/step - loss: 6.1758e-04 - mse: 6.1758e-04 - mae: 0.0115\n",
            "Epoch 101/200\n",
            "34/34 [==============================] - 0s 2ms/step - loss: 8.1711e-04 - mse: 8.1711e-04 - mae: 0.0144\n",
            "Epoch 102/200\n",
            "34/34 [==============================] - 0s 2ms/step - loss: 0.0011 - mse: 0.0011 - mae: 0.0157    \n",
            "Epoch 103/200\n",
            "34/34 [==============================] - 0s 2ms/step - loss: 6.9849e-04 - mse: 6.9849e-04 - mae: 0.0128\n",
            "Epoch 104/200\n",
            "34/34 [==============================] - 0s 2ms/step - loss: 7.2184e-04 - mse: 7.2184e-04 - mae: 0.0130\n",
            "Epoch 105/200\n",
            "34/34 [==============================] - 0s 2ms/step - loss: 0.0012 - mse: 0.0012 - mae: 0.0166\n",
            "Epoch 106/200\n",
            "34/34 [==============================] - 0s 3ms/step - loss: 0.0011 - mse: 0.0011 - mae: 0.0160    \n",
            "Epoch 107/200\n",
            "34/34 [==============================] - 0s 2ms/step - loss: 9.9000e-04 - mse: 9.9000e-04 - mae: 0.0159\n",
            "Epoch 108/200\n",
            "34/34 [==============================] - 0s 2ms/step - loss: 0.0010 - mse: 0.0010 - mae: 0.0155    \n",
            "Epoch 109/200\n",
            "34/34 [==============================] - 0s 2ms/step - loss: 0.0015 - mse: 0.0015 - mae: 0.0203\n",
            "Epoch 110/200\n",
            "34/34 [==============================] - 0s 2ms/step - loss: 0.0014 - mse: 0.0014 - mae: 0.0202\n",
            "Epoch 111/200\n",
            "34/34 [==============================] - 0s 2ms/step - loss: 0.0011 - mse: 0.0011 - mae: 0.0173\n",
            "Epoch 112/200\n",
            "34/34 [==============================] - 0s 2ms/step - loss: 7.9180e-04 - mse: 7.9180e-04 - mae: 0.0133\n",
            "Epoch 113/200\n",
            "34/34 [==============================] - 0s 2ms/step - loss: 6.5848e-04 - mse: 6.5848e-04 - mae: 0.0119\n",
            "Epoch 114/200\n",
            "34/34 [==============================] - 0s 2ms/step - loss: 6.9193e-04 - mse: 6.9193e-04 - mae: 0.0130\n",
            "Epoch 115/200\n",
            "34/34 [==============================] - 0s 2ms/step - loss: 7.4981e-04 - mse: 7.4981e-04 - mae: 0.0122\n",
            "Epoch 116/200\n",
            "34/34 [==============================] - 0s 2ms/step - loss: 0.0012 - mse: 0.0012 - mae: 0.0156    \n",
            "Epoch 117/200\n",
            "34/34 [==============================] - 0s 2ms/step - loss: 0.0013 - mse: 0.0013 - mae: 0.0197\n",
            "Epoch 118/200\n",
            "34/34 [==============================] - 0s 2ms/step - loss: 0.0012 - mse: 0.0012 - mae: 0.0163\n",
            "Epoch 119/200\n",
            "34/34 [==============================] - 0s 2ms/step - loss: 0.0011 - mse: 0.0011 - mae: 0.0157\n",
            "Epoch 120/200\n",
            "34/34 [==============================] - 0s 2ms/step - loss: 9.3227e-04 - mse: 9.3227e-04 - mae: 0.0151\n",
            "Epoch 121/200\n",
            "34/34 [==============================] - 0s 2ms/step - loss: 7.3864e-04 - mse: 7.3864e-04 - mae: 0.0134\n",
            "Epoch 122/200\n",
            "34/34 [==============================] - 0s 2ms/step - loss: 5.8839e-04 - mse: 5.8839e-04 - mae: 0.0114\n",
            "Epoch 123/200\n",
            "34/34 [==============================] - 0s 2ms/step - loss: 7.2299e-04 - mse: 7.2299e-04 - mae: 0.0114\n",
            "Epoch 124/200\n",
            "34/34 [==============================] - 0s 2ms/step - loss: 6.7136e-04 - mse: 6.7136e-04 - mae: 0.0120\n",
            "Epoch 125/200\n",
            "34/34 [==============================] - 0s 2ms/step - loss: 8.0145e-04 - mse: 8.0145e-04 - mae: 0.0127\n",
            "Epoch 126/200\n",
            "34/34 [==============================] - 0s 2ms/step - loss: 0.0013 - mse: 0.0013 - mae: 0.0165\n",
            "Epoch 127/200\n",
            "34/34 [==============================] - 0s 2ms/step - loss: 9.6091e-04 - mse: 9.6091e-04 - mae: 0.0161\n",
            "Epoch 128/200\n",
            "34/34 [==============================] - 0s 2ms/step - loss: 7.9619e-04 - mse: 7.9619e-04 - mae: 0.0143\n",
            "Epoch 129/200\n",
            "34/34 [==============================] - 0s 2ms/step - loss: 8.4660e-04 - mse: 8.4660e-04 - mae: 0.0144\n",
            "Epoch 130/200\n",
            "34/34 [==============================] - 0s 2ms/step - loss: 9.0310e-04 - mse: 9.0310e-04 - mae: 0.0153\n",
            "Epoch 131/200\n",
            "34/34 [==============================] - 0s 2ms/step - loss: 8.2379e-04 - mse: 8.2379e-04 - mae: 0.0142\n",
            "Epoch 132/200\n",
            "34/34 [==============================] - 0s 2ms/step - loss: 7.6027e-04 - mse: 7.6027e-04 - mae: 0.0137\n",
            "Epoch 133/200\n",
            "34/34 [==============================] - 0s 2ms/step - loss: 5.5016e-04 - mse: 5.5016e-04 - mae: 0.0121\n",
            "Epoch 134/200\n",
            "34/34 [==============================] - 0s 3ms/step - loss: 7.0021e-04 - mse: 7.0021e-04 - mae: 0.0124\n",
            "Epoch 135/200\n",
            "34/34 [==============================] - 0s 2ms/step - loss: 8.7659e-04 - mse: 8.7659e-04 - mae: 0.0127\n",
            "Epoch 136/200\n",
            "34/34 [==============================] - 0s 2ms/step - loss: 9.6254e-04 - mse: 9.6254e-04 - mae: 0.0160\n",
            "Epoch 137/200\n",
            "34/34 [==============================] - 0s 2ms/step - loss: 7.4630e-04 - mse: 7.4630e-04 - mae: 0.0128\n",
            "Epoch 138/200\n",
            "34/34 [==============================] - 0s 2ms/step - loss: 8.2019e-04 - mse: 8.2019e-04 - mae: 0.0129\n",
            "Epoch 139/200\n",
            "34/34 [==============================] - 0s 2ms/step - loss: 7.8126e-04 - mse: 7.8126e-04 - mae: 0.0128\n",
            "Epoch 140/200\n",
            "34/34 [==============================] - 0s 2ms/step - loss: 5.8659e-04 - mse: 5.8659e-04 - mae: 0.0109\n",
            "Epoch 141/200\n",
            "34/34 [==============================] - 0s 2ms/step - loss: 5.9526e-04 - mse: 5.9526e-04 - mae: 0.0104\n",
            "Epoch 142/200\n",
            "34/34 [==============================] - 0s 2ms/step - loss: 5.6852e-04 - mse: 5.6852e-04 - mae: 0.0098\n",
            "Epoch 143/200\n",
            "34/34 [==============================] - 0s 2ms/step - loss: 5.2064e-04 - mse: 5.2064e-04 - mae: 0.0098\n",
            "Epoch 144/200\n",
            "34/34 [==============================] - 0s 2ms/step - loss: 9.9217e-04 - mse: 9.9217e-04 - mae: 0.0139\n",
            "Epoch 145/200\n",
            "34/34 [==============================] - 0s 2ms/step - loss: 0.0012 - mse: 0.0012 - mae: 0.0175\n",
            "Epoch 146/200\n",
            "34/34 [==============================] - 0s 2ms/step - loss: 0.0012 - mse: 0.0012 - mae: 0.0170\n",
            "Epoch 147/200\n",
            "34/34 [==============================] - 0s 2ms/step - loss: 0.0011 - mse: 0.0011 - mae: 0.0159    \n",
            "Epoch 148/200\n",
            "34/34 [==============================] - 0s 2ms/step - loss: 0.0013 - mse: 0.0013 - mae: 0.0190\n",
            "Epoch 149/200\n",
            "34/34 [==============================] - 0s 2ms/step - loss: 9.6630e-04 - mse: 9.6630e-04 - mae: 0.0171\n",
            "Epoch 150/200\n",
            "34/34 [==============================] - 0s 2ms/step - loss: 7.5486e-04 - mse: 7.5486e-04 - mae: 0.0131\n",
            "Epoch 151/200\n",
            "34/34 [==============================] - 0s 2ms/step - loss: 5.2782e-04 - mse: 5.2782e-04 - mae: 0.0112\n",
            "Epoch 152/200\n",
            "34/34 [==============================] - 0s 2ms/step - loss: 6.7620e-04 - mse: 6.7620e-04 - mae: 0.0119\n",
            "Epoch 153/200\n",
            "34/34 [==============================] - 0s 3ms/step - loss: 6.8433e-04 - mse: 6.8433e-04 - mae: 0.0124\n",
            "Epoch 154/200\n",
            "34/34 [==============================] - 0s 2ms/step - loss: 5.5129e-04 - mse: 5.5129e-04 - mae: 0.0123\n",
            "Epoch 155/200\n",
            "34/34 [==============================] - 0s 3ms/step - loss: 5.4008e-04 - mse: 5.4008e-04 - mae: 0.0101\n",
            "Epoch 156/200\n",
            "34/34 [==============================] - 0s 2ms/step - loss: 5.5125e-04 - mse: 5.5125e-04 - mae: 0.0101\n",
            "Epoch 157/200\n",
            "34/34 [==============================] - 0s 2ms/step - loss: 5.9143e-04 - mse: 5.9143e-04 - mae: 0.0107\n",
            "Epoch 158/200\n",
            "34/34 [==============================] - 0s 2ms/step - loss: 5.4371e-04 - mse: 5.4371e-04 - mae: 0.0109\n",
            "Epoch 159/200\n",
            "34/34 [==============================] - 0s 2ms/step - loss: 4.5802e-04 - mse: 4.5802e-04 - mae: 0.0105\n",
            "Epoch 160/200\n",
            "34/34 [==============================] - 0s 2ms/step - loss: 4.5083e-04 - mse: 4.5083e-04 - mae: 0.0095\n",
            "Epoch 161/200\n",
            "34/34 [==============================] - 0s 2ms/step - loss: 3.8262e-04 - mse: 3.8262e-04 - mae: 0.0088\n",
            "Epoch 162/200\n",
            "34/34 [==============================] - 0s 2ms/step - loss: 5.2275e-04 - mse: 5.2275e-04 - mae: 0.0091\n",
            "Epoch 163/200\n",
            "34/34 [==============================] - 0s 2ms/step - loss: 3.8233e-04 - mse: 3.8233e-04 - mae: 0.0083\n",
            "Epoch 164/200\n",
            "34/34 [==============================] - 0s 2ms/step - loss: 4.1440e-04 - mse: 4.1440e-04 - mae: 0.0091\n",
            "Epoch 165/200\n",
            "34/34 [==============================] - 0s 3ms/step - loss: 7.8889e-04 - mse: 7.8889e-04 - mae: 0.0122\n",
            "Epoch 166/200\n",
            "34/34 [==============================] - 0s 2ms/step - loss: 9.7281e-04 - mse: 9.7281e-04 - mae: 0.0161\n",
            "Epoch 167/200\n",
            "34/34 [==============================] - 0s 2ms/step - loss: 8.4401e-04 - mse: 8.4401e-04 - mae: 0.0133\n",
            "Epoch 168/200\n",
            "34/34 [==============================] - 0s 2ms/step - loss: 7.9698e-04 - mse: 7.9698e-04 - mae: 0.0135\n",
            "Epoch 169/200\n",
            "34/34 [==============================] - 0s 2ms/step - loss: 7.7412e-04 - mse: 7.7412e-04 - mae: 0.0141\n",
            "Epoch 170/200\n",
            "34/34 [==============================] - 0s 2ms/step - loss: 8.6515e-04 - mse: 8.6515e-04 - mae: 0.0134\n",
            "Epoch 171/200\n",
            "34/34 [==============================] - 0s 2ms/step - loss: 0.0011 - mse: 0.0011 - mae: 0.0159\n",
            "Epoch 172/200\n",
            "34/34 [==============================] - 0s 2ms/step - loss: 0.0021 - mse: 0.0021 - mae: 0.0232\n",
            "Epoch 173/200\n",
            "34/34 [==============================] - 0s 3ms/step - loss: 0.0014 - mse: 0.0014 - mae: 0.0202\n",
            "Epoch 174/200\n",
            "34/34 [==============================] - 0s 2ms/step - loss: 0.0012 - mse: 0.0012 - mae: 0.0179\n",
            "Epoch 175/200\n",
            "34/34 [==============================] - 0s 2ms/step - loss: 8.5389e-04 - mse: 8.5389e-04 - mae: 0.0146\n",
            "Epoch 176/200\n",
            "34/34 [==============================] - 0s 2ms/step - loss: 0.0011 - mse: 0.0011 - mae: 0.0157\n",
            "Epoch 177/200\n",
            "34/34 [==============================] - 0s 2ms/step - loss: 9.7246e-04 - mse: 9.7246e-04 - mae: 0.0144\n",
            "Epoch 178/200\n",
            "34/34 [==============================] - 0s 2ms/step - loss: 9.2023e-04 - mse: 9.2023e-04 - mae: 0.0157\n",
            "Epoch 179/200\n",
            "34/34 [==============================] - 0s 2ms/step - loss: 7.0188e-04 - mse: 7.0188e-04 - mae: 0.0125\n",
            "Epoch 180/200\n",
            "34/34 [==============================] - 0s 2ms/step - loss: 6.2136e-04 - mse: 6.2136e-04 - mae: 0.0120\n",
            "Epoch 181/200\n",
            "34/34 [==============================] - 0s 2ms/step - loss: 6.1442e-04 - mse: 6.1442e-04 - mae: 0.0109\n",
            "Epoch 182/200\n",
            "34/34 [==============================] - 0s 2ms/step - loss: 4.5324e-04 - mse: 4.5324e-04 - mae: 0.0091\n",
            "Epoch 183/200\n",
            "34/34 [==============================] - 0s 2ms/step - loss: 5.2067e-04 - mse: 5.2067e-04 - mae: 0.0093\n",
            "Epoch 184/200\n",
            "34/34 [==============================] - 0s 3ms/step - loss: 5.3197e-04 - mse: 5.3197e-04 - mae: 0.0097\n",
            "Epoch 185/200\n",
            "34/34 [==============================] - 0s 2ms/step - loss: 7.1483e-04 - mse: 7.1483e-04 - mae: 0.0102\n",
            "Epoch 186/200\n",
            "34/34 [==============================] - 0s 2ms/step - loss: 0.0013 - mse: 0.0013 - mae: 0.0164\n",
            "Epoch 187/200\n",
            "34/34 [==============================] - 0s 2ms/step - loss: 7.0363e-04 - mse: 7.0363e-04 - mae: 0.0130\n",
            "Epoch 188/200\n",
            "34/34 [==============================] - 0s 3ms/step - loss: 5.6185e-04 - mse: 5.6185e-04 - mae: 0.0110\n",
            "Epoch 189/200\n",
            "34/34 [==============================] - 0s 2ms/step - loss: 6.6231e-04 - mse: 6.6231e-04 - mae: 0.0122\n",
            "Epoch 190/200\n",
            "34/34 [==============================] - 0s 2ms/step - loss: 5.9290e-04 - mse: 5.9290e-04 - mae: 0.0112\n",
            "Epoch 191/200\n",
            "34/34 [==============================] - 0s 2ms/step - loss: 4.9400e-04 - mse: 4.9400e-04 - mae: 0.0114\n",
            "Epoch 192/200\n",
            "34/34 [==============================] - 0s 2ms/step - loss: 3.9304e-04 - mse: 3.9304e-04 - mae: 0.0092\n",
            "Epoch 193/200\n",
            "34/34 [==============================] - 0s 2ms/step - loss: 4.4813e-04 - mse: 4.4813e-04 - mae: 0.0096\n",
            "Epoch 194/200\n",
            "34/34 [==============================] - 0s 2ms/step - loss: 4.1772e-04 - mse: 4.1772e-04 - mae: 0.0083\n",
            "Epoch 195/200\n",
            "34/34 [==============================] - 0s 2ms/step - loss: 4.9324e-04 - mse: 4.9324e-04 - mae: 0.0092\n",
            "Epoch 196/200\n",
            "34/34 [==============================] - 0s 3ms/step - loss: 5.5418e-04 - mse: 5.5418e-04 - mae: 0.0099\n",
            "Epoch 197/200\n",
            "34/34 [==============================] - 0s 2ms/step - loss: 6.1663e-04 - mse: 6.1663e-04 - mae: 0.0121\n",
            "Epoch 198/200\n",
            "34/34 [==============================] - 0s 2ms/step - loss: 8.3323e-04 - mse: 8.3323e-04 - mae: 0.0126\n",
            "Epoch 199/200\n",
            "34/34 [==============================] - 0s 2ms/step - loss: 7.6366e-04 - mse: 7.6366e-04 - mae: 0.0129\n",
            "Epoch 200/200\n",
            "34/34 [==============================] - 0s 3ms/step - loss: 6.8077e-04 - mse: 6.8077e-04 - mae: 0.0118\n"
          ],
          "name": "stdout"
        }
      ]
    },
    {
      "cell_type": "code",
      "metadata": {
        "id": "EblGaGEWzpiD",
        "colab_type": "code",
        "colab": {}
      },
      "source": [
        "import keras\n",
        "keras.backend.clear_session() "
      ],
      "execution_count": null,
      "outputs": []
    },
    {
      "cell_type": "markdown",
      "metadata": {
        "id": "0qVCpFwsJpDu",
        "colab_type": "text"
      },
      "source": [
        "So the minimum error in training I was able to achieve was 6.8077e^-4"
      ]
    },
    {
      "cell_type": "code",
      "metadata": {
        "id": "dBMzX6JOq2ki",
        "colab_type": "code",
        "colab": {}
      },
      "source": [
        "from sklearn.metrics import  mean_squared_error"
      ],
      "execution_count": 48,
      "outputs": []
    },
    {
      "cell_type": "code",
      "metadata": {
        "id": "_qxM5lR7rHKs",
        "colab_type": "code",
        "colab": {
          "base_uri": "https://localhost:8080/",
          "height": 34
        },
        "outputId": "82e82878-3f4a-4ddd-a65c-8cc8718ce0a0"
      },
      "source": [
        "print(mean_squared_error(y_test,y_pred))"
      ],
      "execution_count": 51,
      "outputs": [
        {
          "output_type": "stream",
          "text": [
            "0.007386053817811456\n"
          ],
          "name": "stdout"
        }
      ]
    },
    {
      "cell_type": "markdown",
      "metadata": {
        "id": "sX1z2il9ryQL",
        "colab_type": "text"
      },
      "source": [
        "And the minimum error in my testing is 0.00738\n"
      ]
    },
    {
      "cell_type": "code",
      "metadata": {
        "id": "DWnC_hxWr_GY",
        "colab_type": "code",
        "colab": {}
      },
      "source": [
        ""
      ],
      "execution_count": null,
      "outputs": []
    }
  ]
}